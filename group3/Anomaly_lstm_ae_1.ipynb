{
 "cells": [
  {
   "cell_type": "code",
   "execution_count": 1,
   "metadata": {
    "colab": {
     "base_uri": "https://localhost:8080/"
    },
    "executionInfo": {
     "elapsed": 27971,
     "status": "ok",
     "timestamp": 1654408786811,
     "user": {
      "displayName": "김동환",
      "userId": "02922448658282055726"
     },
     "user_tz": -540
    },
    "id": "yz1EqK-bjK1Z",
    "outputId": "d2278b9a-6888-432d-8245-c974018163d4"
   },
   "outputs": [
    {
     "name": "stdout",
     "output_type": "stream",
     "text": [
      "Mounted at /content/drive\n",
      "Looking in indexes: https://pypi.org/simple, https://us-python.pkg.dev/colab-wheels/public/simple/\n",
      "Processing ./drive/MyDrive/ICS_anomaly_detection/eTaPR-21.8.2-py3-none-any.whl\n",
      "Installing collected packages: eTaPR\n",
      "Successfully installed eTaPR-21.8.2\n"
     ]
    }
   ],
   "source": [
    "%matplotlib inline\n",
    "import sys\n",
    "\n",
    "from pathlib import Path\n",
    "from datetime import timedelta\n",
    "from sklearn.decomposition import PCA\n",
    "from sklearn.svm import OneClassSVM\n",
    "from sklearn.metrics import accuracy_score, precision_score, recall_score, confusion_matrix,f1_score\n",
    "\n",
    "import dateutil\n",
    "import numpy as np\n",
    "import matplotlib.pyplot as plt\n",
    "import pandas as pd\n",
    "import tensorflow as tf\n",
    "import keras\n",
    "import sklearn\n",
    "from keras.callbacks import EarlyStopping\n",
    "from tensorflow.keras import Model ,models, layers, optimizers, utils\n",
    "\n",
    "from torch.utils.data import Dataset, DataLoader\n",
    "from tqdm.notebook import trange\n",
    "from google.colab import drive\n",
    "drive.mount('/content/drive')\n",
    "!pip install ./drive/MyDrive/ICS_anomaly_detection/eTaPR-21.8.2-py3-none-any.whl\n",
    "from TaPR_pkg import etapr"
   ]
  },
  {
   "cell_type": "code",
   "execution_count": 2,
   "metadata": {
    "colab": {
     "base_uri": "https://localhost:8080/"
    },
    "executionInfo": {
     "elapsed": 416,
     "status": "ok",
     "timestamp": 1654408787220,
     "user": {
      "displayName": "김동환",
      "userId": "02922448658282055726"
     },
     "user_tz": -540
    },
    "id": "VmcehLbCjNlF",
    "outputId": "dffc92fa-4037-46dd-9cba-1715f18021e2"
   },
   "outputs": [
    {
     "data": {
      "text/plain": [
       "[PosixPath('drive/MyDrive/ICS_anomaly_detection/hai-22.04/train/train1.csv'),\n",
       " PosixPath('drive/MyDrive/ICS_anomaly_detection/hai-22.04/train/train2.csv'),\n",
       " PosixPath('drive/MyDrive/ICS_anomaly_detection/hai-22.04/train/train3.csv'),\n",
       " PosixPath('drive/MyDrive/ICS_anomaly_detection/hai-22.04/train/train4.csv'),\n",
       " PosixPath('drive/MyDrive/ICS_anomaly_detection/hai-22.04/train/train5.csv'),\n",
       " PosixPath('drive/MyDrive/ICS_anomaly_detection/hai-22.04/train/train6.csv')]"
      ]
     },
     "execution_count": 2,
     "metadata": {},
     "output_type": "execute_result"
    }
   ],
   "source": [
    "TRAIN_DATASET = sorted([x for x in Path(\"./drive/MyDrive/ICS_anomaly_detection/hai-22.04/train\").glob(\"*.csv\")]) #1등꺼임\n",
    "TRAIN_DATASET"
   ]
  },
  {
   "cell_type": "code",
   "execution_count": 3,
   "metadata": {
    "colab": {
     "base_uri": "https://localhost:8080/"
    },
    "executionInfo": {
     "elapsed": 4,
     "status": "ok",
     "timestamp": 1654408787221,
     "user": {
      "displayName": "김동환",
      "userId": "02922448658282055726"
     },
     "user_tz": -540
    },
    "id": "RnpBoeMCjN-3",
    "outputId": "763529c1-6465-4096-98f5-e71cda92567a"
   },
   "outputs": [
    {
     "data": {
      "text/plain": [
       "[PosixPath('drive/MyDrive/ICS_anomaly_detection/hai-22.04/test/test1.csv'),\n",
       " PosixPath('drive/MyDrive/ICS_anomaly_detection/hai-22.04/test/test2.csv'),\n",
       " PosixPath('drive/MyDrive/ICS_anomaly_detection/hai-22.04/test/test3.csv'),\n",
       " PosixPath('drive/MyDrive/ICS_anomaly_detection/hai-22.04/test/test4.csv')]"
      ]
     },
     "execution_count": 3,
     "metadata": {},
     "output_type": "execute_result"
    }
   ],
   "source": [
    "TEST_DATASET = sorted([x for x in Path(\"./drive/MyDrive/ICS_anomaly_detection/hai-22.04/test\").glob(\"*.csv\")])\n",
    "TEST_DATASET"
   ]
  },
  {
   "cell_type": "code",
   "execution_count": 4,
   "metadata": {
    "executionInfo": {
     "elapsed": 3,
     "status": "ok",
     "timestamp": 1654408787221,
     "user": {
      "displayName": "김동환",
      "userId": "02922448658282055726"
     },
     "user_tz": -540
    },
    "id": "UR8ym-EDjO0Q"
   },
   "outputs": [],
   "source": [
    "def dataframe_from_csv(target):\n",
    "  return pd.read_csv(target).rename(columns=lambda x:x.strip())"
   ]
  },
  {
   "cell_type": "code",
   "execution_count": 5,
   "metadata": {
    "executionInfo": {
     "elapsed": 3,
     "status": "ok",
     "timestamp": 1654408787221,
     "user": {
      "displayName": "김동환",
      "userId": "02922448658282055726"
     },
     "user_tz": -540
    },
    "id": "iztkDVNejTh0"
   },
   "outputs": [],
   "source": [
    "def dataframe_from_csvs(targets):\n",
    "  return pd.concat([dataframe_from_csv(x) for x in targets])"
   ]
  },
  {
   "cell_type": "code",
   "execution_count": 6,
   "metadata": {
    "colab": {
     "base_uri": "https://localhost:8080/",
     "height": 424
    },
    "executionInfo": {
     "elapsed": 30788,
     "status": "ok",
     "timestamp": 1654408818007,
     "user": {
      "displayName": "김동환",
      "userId": "02922448658282055726"
     },
     "user_tz": -540
    },
    "id": "zyu7UvLVkgSH",
    "outputId": "1c330962-dc67-42ea-8899-a577529401c9"
   },
   "outputs": [
    {
     "data": {
      "text/html": [
       "\n",
       "  <div id=\"df-cae25a89-39dd-4516-bd2c-c1bd58aa2499\">\n",
       "    <div class=\"colab-df-container\">\n",
       "      <div>\n",
       "<style scoped>\n",
       "    .dataframe tbody tr th:only-of-type {\n",
       "        vertical-align: middle;\n",
       "    }\n",
       "\n",
       "    .dataframe tbody tr th {\n",
       "        vertical-align: top;\n",
       "    }\n",
       "\n",
       "    .dataframe thead th {\n",
       "        text-align: right;\n",
       "    }\n",
       "</style>\n",
       "<table border=\"1\" class=\"dataframe\">\n",
       "  <thead>\n",
       "    <tr style=\"text-align: right;\">\n",
       "      <th></th>\n",
       "      <th>timestamp</th>\n",
       "      <th>P1_B2004</th>\n",
       "      <th>P1_B2016</th>\n",
       "      <th>P1_B3004</th>\n",
       "      <th>P1_B3005</th>\n",
       "      <th>P1_B4002</th>\n",
       "      <th>P1_B4005</th>\n",
       "      <th>P1_B400B</th>\n",
       "      <th>P1_B4022</th>\n",
       "      <th>P1_FCV01D</th>\n",
       "      <th>...</th>\n",
       "      <th>P4_HT_PS</th>\n",
       "      <th>P4_LD</th>\n",
       "      <th>P4_ST_FD</th>\n",
       "      <th>P4_ST_GOV</th>\n",
       "      <th>P4_ST_LD</th>\n",
       "      <th>P4_ST_PO</th>\n",
       "      <th>P4_ST_PS</th>\n",
       "      <th>P4_ST_PT01</th>\n",
       "      <th>P4_ST_TT01</th>\n",
       "      <th>Attack</th>\n",
       "    </tr>\n",
       "  </thead>\n",
       "  <tbody>\n",
       "    <tr>\n",
       "      <th>0</th>\n",
       "      <td>2021/07/11 10:00</td>\n",
       "      <td>0.08771</td>\n",
       "      <td>0.88504</td>\n",
       "      <td>476.76703</td>\n",
       "      <td>1014.79321</td>\n",
       "      <td>26.92264</td>\n",
       "      <td>15.07713</td>\n",
       "      <td>595.06104</td>\n",
       "      <td>30.08042</td>\n",
       "      <td>15.50464</td>\n",
       "      <td>...</td>\n",
       "      <td>7.08818</td>\n",
       "      <td>276.40338</td>\n",
       "      <td>-0.00087</td>\n",
       "      <td>14742</td>\n",
       "      <td>276.45758</td>\n",
       "      <td>267.90363</td>\n",
       "      <td>8.90254</td>\n",
       "      <td>9914</td>\n",
       "      <td>27170</td>\n",
       "      <td>0</td>\n",
       "    </tr>\n",
       "    <tr>\n",
       "      <th>1</th>\n",
       "      <td>2021/07/11 10:00</td>\n",
       "      <td>0.08771</td>\n",
       "      <td>0.88619</td>\n",
       "      <td>476.76703</td>\n",
       "      <td>1014.79321</td>\n",
       "      <td>26.92264</td>\n",
       "      <td>14.97197</td>\n",
       "      <td>531.50317</td>\n",
       "      <td>30.08423</td>\n",
       "      <td>16.20023</td>\n",
       "      <td>...</td>\n",
       "      <td>7.08818</td>\n",
       "      <td>276.18634</td>\n",
       "      <td>0.00058</td>\n",
       "      <td>14781</td>\n",
       "      <td>278.91705</td>\n",
       "      <td>268.95258</td>\n",
       "      <td>8.90254</td>\n",
       "      <td>9914</td>\n",
       "      <td>27171</td>\n",
       "      <td>0</td>\n",
       "    </tr>\n",
       "    <tr>\n",
       "      <th>2</th>\n",
       "      <td>2021/07/11 10:00</td>\n",
       "      <td>0.08771</td>\n",
       "      <td>0.88836</td>\n",
       "      <td>476.76703</td>\n",
       "      <td>1014.79321</td>\n",
       "      <td>26.92264</td>\n",
       "      <td>14.90129</td>\n",
       "      <td>451.06253</td>\n",
       "      <td>30.09148</td>\n",
       "      <td>16.53352</td>\n",
       "      <td>...</td>\n",
       "      <td>7.08818</td>\n",
       "      <td>279.85754</td>\n",
       "      <td>-0.00072</td>\n",
       "      <td>14831</td>\n",
       "      <td>278.89899</td>\n",
       "      <td>269.76636</td>\n",
       "      <td>8.90254</td>\n",
       "      <td>9914</td>\n",
       "      <td>27170</td>\n",
       "      <td>0</td>\n",
       "    </tr>\n",
       "    <tr>\n",
       "      <th>3</th>\n",
       "      <td>2021/07/11 10:00</td>\n",
       "      <td>0.08771</td>\n",
       "      <td>0.89214</td>\n",
       "      <td>476.76703</td>\n",
       "      <td>1014.79321</td>\n",
       "      <td>26.92264</td>\n",
       "      <td>14.82246</td>\n",
       "      <td>404.38739</td>\n",
       "      <td>30.10407</td>\n",
       "      <td>16.30247</td>\n",
       "      <td>...</td>\n",
       "      <td>7.08818</td>\n",
       "      <td>281.50317</td>\n",
       "      <td>0.00101</td>\n",
       "      <td>14917</td>\n",
       "      <td>280.49048</td>\n",
       "      <td>271.64716</td>\n",
       "      <td>8.90254</td>\n",
       "      <td>9914</td>\n",
       "      <td>27171</td>\n",
       "      <td>0</td>\n",
       "    </tr>\n",
       "    <tr>\n",
       "      <th>4</th>\n",
       "      <td>2021/07/11 10:00</td>\n",
       "      <td>0.08771</td>\n",
       "      <td>0.89191</td>\n",
       "      <td>476.76703</td>\n",
       "      <td>1014.79321</td>\n",
       "      <td>26.92264</td>\n",
       "      <td>14.73087</td>\n",
       "      <td>382.53925</td>\n",
       "      <td>30.10331</td>\n",
       "      <td>15.79237</td>\n",
       "      <td>...</td>\n",
       "      <td>7.08818</td>\n",
       "      <td>281.34039</td>\n",
       "      <td>0.00043</td>\n",
       "      <td>14997</td>\n",
       "      <td>283.47437</td>\n",
       "      <td>272.80457</td>\n",
       "      <td>8.90254</td>\n",
       "      <td>9914</td>\n",
       "      <td>27171</td>\n",
       "      <td>0</td>\n",
       "    </tr>\n",
       "    <tr>\n",
       "      <th>...</th>\n",
       "      <td>...</td>\n",
       "      <td>...</td>\n",
       "      <td>...</td>\n",
       "      <td>...</td>\n",
       "      <td>...</td>\n",
       "      <td>...</td>\n",
       "      <td>...</td>\n",
       "      <td>...</td>\n",
       "      <td>...</td>\n",
       "      <td>...</td>\n",
       "      <td>...</td>\n",
       "      <td>...</td>\n",
       "      <td>...</td>\n",
       "      <td>...</td>\n",
       "      <td>...</td>\n",
       "      <td>...</td>\n",
       "      <td>...</td>\n",
       "      <td>...</td>\n",
       "      <td>...</td>\n",
       "      <td>...</td>\n",
       "      <td>...</td>\n",
       "    </tr>\n",
       "    <tr>\n",
       "      <th>259195</th>\n",
       "      <td>2021-08-09 8:59</td>\n",
       "      <td>0.13800</td>\n",
       "      <td>1.08731</td>\n",
       "      <td>459.18994</td>\n",
       "      <td>986.05908</td>\n",
       "      <td>31.38997</td>\n",
       "      <td>100.00000</td>\n",
       "      <td>3178.48877</td>\n",
       "      <td>35.05434</td>\n",
       "      <td>100.00000</td>\n",
       "      <td>...</td>\n",
       "      <td>10.00000</td>\n",
       "      <td>370.02679</td>\n",
       "      <td>0.00051</td>\n",
       "      <td>17293</td>\n",
       "      <td>307.83423</td>\n",
       "      <td>318.30511</td>\n",
       "      <td>4.67615</td>\n",
       "      <td>10000</td>\n",
       "      <td>27213</td>\n",
       "      <td>0</td>\n",
       "    </tr>\n",
       "    <tr>\n",
       "      <th>259196</th>\n",
       "      <td>2021-08-09 8:59</td>\n",
       "      <td>0.13800</td>\n",
       "      <td>1.08147</td>\n",
       "      <td>459.18994</td>\n",
       "      <td>986.05908</td>\n",
       "      <td>31.38997</td>\n",
       "      <td>100.00000</td>\n",
       "      <td>3175.36084</td>\n",
       "      <td>35.03488</td>\n",
       "      <td>100.00000</td>\n",
       "      <td>...</td>\n",
       "      <td>10.00000</td>\n",
       "      <td>370.40656</td>\n",
       "      <td>-0.00029</td>\n",
       "      <td>17270</td>\n",
       "      <td>307.85229</td>\n",
       "      <td>317.65405</td>\n",
       "      <td>4.67615</td>\n",
       "      <td>10000</td>\n",
       "      <td>27201</td>\n",
       "      <td>0</td>\n",
       "    </tr>\n",
       "    <tr>\n",
       "      <th>259197</th>\n",
       "      <td>2021-08-09 8:59</td>\n",
       "      <td>0.13800</td>\n",
       "      <td>1.07953</td>\n",
       "      <td>459.18994</td>\n",
       "      <td>986.05908</td>\n",
       "      <td>31.38997</td>\n",
       "      <td>100.00000</td>\n",
       "      <td>3175.73608</td>\n",
       "      <td>35.02840</td>\n",
       "      <td>100.00000</td>\n",
       "      <td>...</td>\n",
       "      <td>10.00000</td>\n",
       "      <td>368.12787</td>\n",
       "      <td>0.00152</td>\n",
       "      <td>17205</td>\n",
       "      <td>308.37671</td>\n",
       "      <td>316.80414</td>\n",
       "      <td>4.67615</td>\n",
       "      <td>10000</td>\n",
       "      <td>27206</td>\n",
       "      <td>0</td>\n",
       "    </tr>\n",
       "    <tr>\n",
       "      <th>259198</th>\n",
       "      <td>2021-08-09 8:59</td>\n",
       "      <td>0.13800</td>\n",
       "      <td>1.07827</td>\n",
       "      <td>459.18994</td>\n",
       "      <td>986.05908</td>\n",
       "      <td>31.38997</td>\n",
       "      <td>100.00000</td>\n",
       "      <td>3176.61182</td>\n",
       "      <td>35.02420</td>\n",
       "      <td>100.00000</td>\n",
       "      <td>...</td>\n",
       "      <td>10.00000</td>\n",
       "      <td>368.01941</td>\n",
       "      <td>0.00058</td>\n",
       "      <td>17204</td>\n",
       "      <td>305.41089</td>\n",
       "      <td>316.00836</td>\n",
       "      <td>4.67615</td>\n",
       "      <td>10000</td>\n",
       "      <td>27210</td>\n",
       "      <td>0</td>\n",
       "    </tr>\n",
       "    <tr>\n",
       "      <th>259199</th>\n",
       "      <td>2021-08-09 9:00</td>\n",
       "      <td>0.13800</td>\n",
       "      <td>1.07609</td>\n",
       "      <td>459.18994</td>\n",
       "      <td>986.05908</td>\n",
       "      <td>31.38997</td>\n",
       "      <td>100.00000</td>\n",
       "      <td>3172.23267</td>\n",
       "      <td>35.01695</td>\n",
       "      <td>100.00000</td>\n",
       "      <td>...</td>\n",
       "      <td>10.00000</td>\n",
       "      <td>367.78424</td>\n",
       "      <td>-0.00014</td>\n",
       "      <td>17138</td>\n",
       "      <td>306.91187</td>\n",
       "      <td>315.19458</td>\n",
       "      <td>4.67615</td>\n",
       "      <td>10000</td>\n",
       "      <td>27207</td>\n",
       "      <td>0</td>\n",
       "    </tr>\n",
       "  </tbody>\n",
       "</table>\n",
       "<p>1004340 rows × 88 columns</p>\n",
       "</div>\n",
       "      <button class=\"colab-df-convert\" onclick=\"convertToInteractive('df-cae25a89-39dd-4516-bd2c-c1bd58aa2499')\"\n",
       "              title=\"Convert this dataframe to an interactive table.\"\n",
       "              style=\"display:none;\">\n",
       "        \n",
       "  <svg xmlns=\"http://www.w3.org/2000/svg\" height=\"24px\"viewBox=\"0 0 24 24\"\n",
       "       width=\"24px\">\n",
       "    <path d=\"M0 0h24v24H0V0z\" fill=\"none\"/>\n",
       "    <path d=\"M18.56 5.44l.94 2.06.94-2.06 2.06-.94-2.06-.94-.94-2.06-.94 2.06-2.06.94zm-11 1L8.5 8.5l.94-2.06 2.06-.94-2.06-.94L8.5 2.5l-.94 2.06-2.06.94zm10 10l.94 2.06.94-2.06 2.06-.94-2.06-.94-.94-2.06-.94 2.06-2.06.94z\"/><path d=\"M17.41 7.96l-1.37-1.37c-.4-.4-.92-.59-1.43-.59-.52 0-1.04.2-1.43.59L10.3 9.45l-7.72 7.72c-.78.78-.78 2.05 0 2.83L4 21.41c.39.39.9.59 1.41.59.51 0 1.02-.2 1.41-.59l7.78-7.78 2.81-2.81c.8-.78.8-2.07 0-2.86zM5.41 20L4 18.59l7.72-7.72 1.47 1.35L5.41 20z\"/>\n",
       "  </svg>\n",
       "      </button>\n",
       "      \n",
       "  <style>\n",
       "    .colab-df-container {\n",
       "      display:flex;\n",
       "      flex-wrap:wrap;\n",
       "      gap: 12px;\n",
       "    }\n",
       "\n",
       "    .colab-df-convert {\n",
       "      background-color: #E8F0FE;\n",
       "      border: none;\n",
       "      border-radius: 50%;\n",
       "      cursor: pointer;\n",
       "      display: none;\n",
       "      fill: #1967D2;\n",
       "      height: 32px;\n",
       "      padding: 0 0 0 0;\n",
       "      width: 32px;\n",
       "    }\n",
       "\n",
       "    .colab-df-convert:hover {\n",
       "      background-color: #E2EBFA;\n",
       "      box-shadow: 0px 1px 2px rgba(60, 64, 67, 0.3), 0px 1px 3px 1px rgba(60, 64, 67, 0.15);\n",
       "      fill: #174EA6;\n",
       "    }\n",
       "\n",
       "    [theme=dark] .colab-df-convert {\n",
       "      background-color: #3B4455;\n",
       "      fill: #D2E3FC;\n",
       "    }\n",
       "\n",
       "    [theme=dark] .colab-df-convert:hover {\n",
       "      background-color: #434B5C;\n",
       "      box-shadow: 0px 1px 3px 1px rgba(0, 0, 0, 0.15);\n",
       "      filter: drop-shadow(0px 1px 2px rgba(0, 0, 0, 0.3));\n",
       "      fill: #FFFFFF;\n",
       "    }\n",
       "  </style>\n",
       "\n",
       "      <script>\n",
       "        const buttonEl =\n",
       "          document.querySelector('#df-cae25a89-39dd-4516-bd2c-c1bd58aa2499 button.colab-df-convert');\n",
       "        buttonEl.style.display =\n",
       "          google.colab.kernel.accessAllowed ? 'block' : 'none';\n",
       "\n",
       "        async function convertToInteractive(key) {\n",
       "          const element = document.querySelector('#df-cae25a89-39dd-4516-bd2c-c1bd58aa2499');\n",
       "          const dataTable =\n",
       "            await google.colab.kernel.invokeFunction('convertToInteractive',\n",
       "                                                     [key], {});\n",
       "          if (!dataTable) return;\n",
       "\n",
       "          const docLinkHtml = 'Like what you see? Visit the ' +\n",
       "            '<a target=\"_blank\" href=https://colab.research.google.com/notebooks/data_table.ipynb>data table notebook</a>'\n",
       "            + ' to learn more about interactive tables.';\n",
       "          element.innerHTML = '';\n",
       "          dataTable['output_type'] = 'display_data';\n",
       "          await google.colab.output.renderOutput(dataTable, element);\n",
       "          const docLink = document.createElement('div');\n",
       "          docLink.innerHTML = docLinkHtml;\n",
       "          element.appendChild(docLink);\n",
       "        }\n",
       "      </script>\n",
       "    </div>\n",
       "  </div>\n",
       "  "
      ],
      "text/plain": [
       "               timestamp  P1_B2004  P1_B2016   P1_B3004    P1_B3005  P1_B4002  \\\n",
       "0       2021/07/11 10:00   0.08771   0.88504  476.76703  1014.79321  26.92264   \n",
       "1       2021/07/11 10:00   0.08771   0.88619  476.76703  1014.79321  26.92264   \n",
       "2       2021/07/11 10:00   0.08771   0.88836  476.76703  1014.79321  26.92264   \n",
       "3       2021/07/11 10:00   0.08771   0.89214  476.76703  1014.79321  26.92264   \n",
       "4       2021/07/11 10:00   0.08771   0.89191  476.76703  1014.79321  26.92264   \n",
       "...                  ...       ...       ...        ...         ...       ...   \n",
       "259195   2021-08-09 8:59   0.13800   1.08731  459.18994   986.05908  31.38997   \n",
       "259196   2021-08-09 8:59   0.13800   1.08147  459.18994   986.05908  31.38997   \n",
       "259197   2021-08-09 8:59   0.13800   1.07953  459.18994   986.05908  31.38997   \n",
       "259198   2021-08-09 8:59   0.13800   1.07827  459.18994   986.05908  31.38997   \n",
       "259199   2021-08-09 9:00   0.13800   1.07609  459.18994   986.05908  31.38997   \n",
       "\n",
       "         P1_B4005    P1_B400B  P1_B4022  P1_FCV01D  ...  P4_HT_PS      P4_LD  \\\n",
       "0        15.07713   595.06104  30.08042   15.50464  ...   7.08818  276.40338   \n",
       "1        14.97197   531.50317  30.08423   16.20023  ...   7.08818  276.18634   \n",
       "2        14.90129   451.06253  30.09148   16.53352  ...   7.08818  279.85754   \n",
       "3        14.82246   404.38739  30.10407   16.30247  ...   7.08818  281.50317   \n",
       "4        14.73087   382.53925  30.10331   15.79237  ...   7.08818  281.34039   \n",
       "...           ...         ...       ...        ...  ...       ...        ...   \n",
       "259195  100.00000  3178.48877  35.05434  100.00000  ...  10.00000  370.02679   \n",
       "259196  100.00000  3175.36084  35.03488  100.00000  ...  10.00000  370.40656   \n",
       "259197  100.00000  3175.73608  35.02840  100.00000  ...  10.00000  368.12787   \n",
       "259198  100.00000  3176.61182  35.02420  100.00000  ...  10.00000  368.01941   \n",
       "259199  100.00000  3172.23267  35.01695  100.00000  ...  10.00000  367.78424   \n",
       "\n",
       "        P4_ST_FD  P4_ST_GOV   P4_ST_LD   P4_ST_PO  P4_ST_PS  P4_ST_PT01  \\\n",
       "0       -0.00087      14742  276.45758  267.90363   8.90254        9914   \n",
       "1        0.00058      14781  278.91705  268.95258   8.90254        9914   \n",
       "2       -0.00072      14831  278.89899  269.76636   8.90254        9914   \n",
       "3        0.00101      14917  280.49048  271.64716   8.90254        9914   \n",
       "4        0.00043      14997  283.47437  272.80457   8.90254        9914   \n",
       "...          ...        ...        ...        ...       ...         ...   \n",
       "259195   0.00051      17293  307.83423  318.30511   4.67615       10000   \n",
       "259196  -0.00029      17270  307.85229  317.65405   4.67615       10000   \n",
       "259197   0.00152      17205  308.37671  316.80414   4.67615       10000   \n",
       "259198   0.00058      17204  305.41089  316.00836   4.67615       10000   \n",
       "259199  -0.00014      17138  306.91187  315.19458   4.67615       10000   \n",
       "\n",
       "        P4_ST_TT01  Attack  \n",
       "0            27170       0  \n",
       "1            27171       0  \n",
       "2            27170       0  \n",
       "3            27171       0  \n",
       "4            27171       0  \n",
       "...            ...     ...  \n",
       "259195       27213       0  \n",
       "259196       27201       0  \n",
       "259197       27206       0  \n",
       "259198       27210       0  \n",
       "259199       27207       0  \n",
       "\n",
       "[1004340 rows x 88 columns]"
      ]
     },
     "execution_count": 6,
     "metadata": {},
     "output_type": "execute_result"
    }
   ],
   "source": [
    "TRAIN_DF_RAW = dataframe_from_csvs(TRAIN_DATASET)\n",
    "TRAIN_DF_RAW"
   ]
  },
  {
   "cell_type": "code",
   "execution_count": 7,
   "metadata": {
    "colab": {
     "base_uri": "https://localhost:8080/",
     "height": 424
    },
    "executionInfo": {
     "elapsed": 1109,
     "status": "ok",
     "timestamp": 1654408819112,
     "user": {
      "displayName": "김동환",
      "userId": "02922448658282055726"
     },
     "user_tz": -540
    },
    "id": "ym1Ynt56jZMS",
    "outputId": "3358810c-0a2e-480f-a057-d79cadc583af"
   },
   "outputs": [
    {
     "data": {
      "text/html": [
       "\n",
       "  <div id=\"df-2156c2f1-ea6a-4358-be22-11f92b09f0b4\">\n",
       "    <div class=\"colab-df-container\">\n",
       "      <div>\n",
       "<style scoped>\n",
       "    .dataframe tbody tr th:only-of-type {\n",
       "        vertical-align: middle;\n",
       "    }\n",
       "\n",
       "    .dataframe tbody tr th {\n",
       "        vertical-align: top;\n",
       "    }\n",
       "\n",
       "    .dataframe thead th {\n",
       "        text-align: right;\n",
       "    }\n",
       "</style>\n",
       "<table border=\"1\" class=\"dataframe\">\n",
       "  <thead>\n",
       "    <tr style=\"text-align: right;\">\n",
       "      <th></th>\n",
       "      <th>C03</th>\n",
       "      <th>C21</th>\n",
       "      <th>C23</th>\n",
       "      <th>C24</th>\n",
       "      <th>C48</th>\n",
       "      <th>C53</th>\n",
       "      <th>C55</th>\n",
       "      <th>C56</th>\n",
       "      <th>C58</th>\n",
       "      <th>C65</th>\n",
       "      <th>C66</th>\n",
       "    </tr>\n",
       "  </thead>\n",
       "  <tbody>\n",
       "    <tr>\n",
       "      <th>0</th>\n",
       "      <td>476.76703</td>\n",
       "      <td>18.34995</td>\n",
       "      <td>467.27020</td>\n",
       "      <td>25.42843</td>\n",
       "      <td>126.92957</td>\n",
       "      <td>12.66931</td>\n",
       "      <td>2880</td>\n",
       "      <td>54816</td>\n",
       "      <td>923</td>\n",
       "      <td>50</td>\n",
       "      <td>50</td>\n",
       "    </tr>\n",
       "    <tr>\n",
       "      <th>1</th>\n",
       "      <td>476.76703</td>\n",
       "      <td>18.33343</td>\n",
       "      <td>466.91238</td>\n",
       "      <td>25.42656</td>\n",
       "      <td>126.92957</td>\n",
       "      <td>12.66931</td>\n",
       "      <td>2880</td>\n",
       "      <td>54816</td>\n",
       "      <td>923</td>\n",
       "      <td>50</td>\n",
       "      <td>50</td>\n",
       "    </tr>\n",
       "    <tr>\n",
       "      <th>2</th>\n",
       "      <td>476.76703</td>\n",
       "      <td>18.51450</td>\n",
       "      <td>466.91238</td>\n",
       "      <td>25.41979</td>\n",
       "      <td>126.92957</td>\n",
       "      <td>12.66931</td>\n",
       "      <td>2880</td>\n",
       "      <td>54816</td>\n",
       "      <td>923</td>\n",
       "      <td>50</td>\n",
       "      <td>50</td>\n",
       "    </tr>\n",
       "    <tr>\n",
       "      <th>3</th>\n",
       "      <td>476.76703</td>\n",
       "      <td>18.63308</td>\n",
       "      <td>466.35010</td>\n",
       "      <td>25.44255</td>\n",
       "      <td>126.92957</td>\n",
       "      <td>12.66931</td>\n",
       "      <td>2880</td>\n",
       "      <td>54816</td>\n",
       "      <td>923</td>\n",
       "      <td>50</td>\n",
       "      <td>50</td>\n",
       "    </tr>\n",
       "    <tr>\n",
       "      <th>4</th>\n",
       "      <td>476.76703</td>\n",
       "      <td>18.76518</td>\n",
       "      <td>466.60565</td>\n",
       "      <td>25.44007</td>\n",
       "      <td>126.92957</td>\n",
       "      <td>12.66931</td>\n",
       "      <td>2880</td>\n",
       "      <td>54815</td>\n",
       "      <td>923</td>\n",
       "      <td>50</td>\n",
       "      <td>50</td>\n",
       "    </tr>\n",
       "    <tr>\n",
       "      <th>...</th>\n",
       "      <td>...</td>\n",
       "      <td>...</td>\n",
       "      <td>...</td>\n",
       "      <td>...</td>\n",
       "      <td>...</td>\n",
       "      <td>...</td>\n",
       "      <td>...</td>\n",
       "      <td>...</td>\n",
       "      <td>...</td>\n",
       "      <td>...</td>\n",
       "      <td>...</td>\n",
       "    </tr>\n",
       "    <tr>\n",
       "      <th>1004335</th>\n",
       "      <td>459.18994</td>\n",
       "      <td>13.09378</td>\n",
       "      <td>465.27664</td>\n",
       "      <td>37.62007</td>\n",
       "      <td>112.42368</td>\n",
       "      <td>12.53358</td>\n",
       "      <td>2880</td>\n",
       "      <td>54740</td>\n",
       "      <td>905</td>\n",
       "      <td>50</td>\n",
       "      <td>50</td>\n",
       "    </tr>\n",
       "    <tr>\n",
       "      <th>1004336</th>\n",
       "      <td>459.18994</td>\n",
       "      <td>13.07560</td>\n",
       "      <td>465.27664</td>\n",
       "      <td>37.53543</td>\n",
       "      <td>112.42368</td>\n",
       "      <td>12.53358</td>\n",
       "      <td>2880</td>\n",
       "      <td>54739</td>\n",
       "      <td>905</td>\n",
       "      <td>50</td>\n",
       "      <td>50</td>\n",
       "    </tr>\n",
       "    <tr>\n",
       "      <th>1004337</th>\n",
       "      <td>459.18994</td>\n",
       "      <td>13.00721</td>\n",
       "      <td>464.76544</td>\n",
       "      <td>37.50321</td>\n",
       "      <td>112.42368</td>\n",
       "      <td>12.53358</td>\n",
       "      <td>2880</td>\n",
       "      <td>54740</td>\n",
       "      <td>904</td>\n",
       "      <td>50</td>\n",
       "      <td>50</td>\n",
       "    </tr>\n",
       "    <tr>\n",
       "      <th>1004338</th>\n",
       "      <td>459.18994</td>\n",
       "      <td>12.96801</td>\n",
       "      <td>465.02106</td>\n",
       "      <td>37.44787</td>\n",
       "      <td>112.42368</td>\n",
       "      <td>12.53358</td>\n",
       "      <td>2880</td>\n",
       "      <td>54740</td>\n",
       "      <td>906</td>\n",
       "      <td>50</td>\n",
       "      <td>50</td>\n",
       "    </tr>\n",
       "    <tr>\n",
       "      <th>1004339</th>\n",
       "      <td>459.18994</td>\n",
       "      <td>12.95821</td>\n",
       "      <td>464.61209</td>\n",
       "      <td>37.39072</td>\n",
       "      <td>112.42368</td>\n",
       "      <td>12.53358</td>\n",
       "      <td>2880</td>\n",
       "      <td>54739</td>\n",
       "      <td>905</td>\n",
       "      <td>50</td>\n",
       "      <td>50</td>\n",
       "    </tr>\n",
       "  </tbody>\n",
       "</table>\n",
       "<p>1004340 rows × 11 columns</p>\n",
       "</div>\n",
       "      <button class=\"colab-df-convert\" onclick=\"convertToInteractive('df-2156c2f1-ea6a-4358-be22-11f92b09f0b4')\"\n",
       "              title=\"Convert this dataframe to an interactive table.\"\n",
       "              style=\"display:none;\">\n",
       "        \n",
       "  <svg xmlns=\"http://www.w3.org/2000/svg\" height=\"24px\"viewBox=\"0 0 24 24\"\n",
       "       width=\"24px\">\n",
       "    <path d=\"M0 0h24v24H0V0z\" fill=\"none\"/>\n",
       "    <path d=\"M18.56 5.44l.94 2.06.94-2.06 2.06-.94-2.06-.94-.94-2.06-.94 2.06-2.06.94zm-11 1L8.5 8.5l.94-2.06 2.06-.94-2.06-.94L8.5 2.5l-.94 2.06-2.06.94zm10 10l.94 2.06.94-2.06 2.06-.94-2.06-.94-.94-2.06-.94 2.06-2.06.94z\"/><path d=\"M17.41 7.96l-1.37-1.37c-.4-.4-.92-.59-1.43-.59-.52 0-1.04.2-1.43.59L10.3 9.45l-7.72 7.72c-.78.78-.78 2.05 0 2.83L4 21.41c.39.39.9.59 1.41.59.51 0 1.02-.2 1.41-.59l7.78-7.78 2.81-2.81c.8-.78.8-2.07 0-2.86zM5.41 20L4 18.59l7.72-7.72 1.47 1.35L5.41 20z\"/>\n",
       "  </svg>\n",
       "      </button>\n",
       "      \n",
       "  <style>\n",
       "    .colab-df-container {\n",
       "      display:flex;\n",
       "      flex-wrap:wrap;\n",
       "      gap: 12px;\n",
       "    }\n",
       "\n",
       "    .colab-df-convert {\n",
       "      background-color: #E8F0FE;\n",
       "      border: none;\n",
       "      border-radius: 50%;\n",
       "      cursor: pointer;\n",
       "      display: none;\n",
       "      fill: #1967D2;\n",
       "      height: 32px;\n",
       "      padding: 0 0 0 0;\n",
       "      width: 32px;\n",
       "    }\n",
       "\n",
       "    .colab-df-convert:hover {\n",
       "      background-color: #E2EBFA;\n",
       "      box-shadow: 0px 1px 2px rgba(60, 64, 67, 0.3), 0px 1px 3px 1px rgba(60, 64, 67, 0.15);\n",
       "      fill: #174EA6;\n",
       "    }\n",
       "\n",
       "    [theme=dark] .colab-df-convert {\n",
       "      background-color: #3B4455;\n",
       "      fill: #D2E3FC;\n",
       "    }\n",
       "\n",
       "    [theme=dark] .colab-df-convert:hover {\n",
       "      background-color: #434B5C;\n",
       "      box-shadow: 0px 1px 3px 1px rgba(0, 0, 0, 0.15);\n",
       "      filter: drop-shadow(0px 1px 2px rgba(0, 0, 0, 0.3));\n",
       "      fill: #FFFFFF;\n",
       "    }\n",
       "  </style>\n",
       "\n",
       "      <script>\n",
       "        const buttonEl =\n",
       "          document.querySelector('#df-2156c2f1-ea6a-4358-be22-11f92b09f0b4 button.colab-df-convert');\n",
       "        buttonEl.style.display =\n",
       "          google.colab.kernel.accessAllowed ? 'block' : 'none';\n",
       "\n",
       "        async function convertToInteractive(key) {\n",
       "          const element = document.querySelector('#df-2156c2f1-ea6a-4358-be22-11f92b09f0b4');\n",
       "          const dataTable =\n",
       "            await google.colab.kernel.invokeFunction('convertToInteractive',\n",
       "                                                     [key], {});\n",
       "          if (!dataTable) return;\n",
       "\n",
       "          const docLinkHtml = 'Like what you see? Visit the ' +\n",
       "            '<a target=\"_blank\" href=https://colab.research.google.com/notebooks/data_table.ipynb>data table notebook</a>'\n",
       "            + ' to learn more about interactive tables.';\n",
       "          element.innerHTML = '';\n",
       "          dataTable['output_type'] = 'display_data';\n",
       "          await google.colab.output.renderOutput(dataTable, element);\n",
       "          const docLink = document.createElement('div');\n",
       "          docLink.innerHTML = docLinkHtml;\n",
       "          element.appendChild(docLink);\n",
       "        }\n",
       "      </script>\n",
       "    </div>\n",
       "  </div>\n",
       "  "
      ],
      "text/plain": [
       "               C03       C21        C23       C24        C48       C53   C55  \\\n",
       "0        476.76703  18.34995  467.27020  25.42843  126.92957  12.66931  2880   \n",
       "1        476.76703  18.33343  466.91238  25.42656  126.92957  12.66931  2880   \n",
       "2        476.76703  18.51450  466.91238  25.41979  126.92957  12.66931  2880   \n",
       "3        476.76703  18.63308  466.35010  25.44255  126.92957  12.66931  2880   \n",
       "4        476.76703  18.76518  466.60565  25.44007  126.92957  12.66931  2880   \n",
       "...            ...       ...        ...       ...        ...       ...   ...   \n",
       "1004335  459.18994  13.09378  465.27664  37.62007  112.42368  12.53358  2880   \n",
       "1004336  459.18994  13.07560  465.27664  37.53543  112.42368  12.53358  2880   \n",
       "1004337  459.18994  13.00721  464.76544  37.50321  112.42368  12.53358  2880   \n",
       "1004338  459.18994  12.96801  465.02106  37.44787  112.42368  12.53358  2880   \n",
       "1004339  459.18994  12.95821  464.61209  37.39072  112.42368  12.53358  2880   \n",
       "\n",
       "           C56  C58  C65  C66  \n",
       "0        54816  923   50   50  \n",
       "1        54816  923   50   50  \n",
       "2        54816  923   50   50  \n",
       "3        54816  923   50   50  \n",
       "4        54815  923   50   50  \n",
       "...        ...  ...  ...  ...  \n",
       "1004335  54740  905   50   50  \n",
       "1004336  54739  905   50   50  \n",
       "1004337  54740  904   50   50  \n",
       "1004338  54740  906   50   50  \n",
       "1004339  54739  905   50   50  \n",
       "\n",
       "[1004340 rows x 11 columns]"
      ]
     },
     "execution_count": 7,
     "metadata": {},
     "output_type": "execute_result"
    }
   ],
   "source": [
    "TRAIN_DF_RAW.reset_index(drop=True,inplace=True)\n",
    "TIMESTAMP_FIELD = \"timestamp\"\n",
    "IDSTAMP_FIELD = 'id'\n",
    "ATTACK_FIELD = \"attack\"\n",
    "TRAIN_DF_SET_COLUMNS=TRAIN_DF_RAW.set_axis(['timestamp', 'C01', 'C02', 'C03', 'C04', 'C05', 'C06', 'C07', 'C08', 'C09', 'C10',\n",
    "       'C11', 'C12', 'C13', 'C14', 'C15', 'C16', 'C17', 'C18', 'C19', 'C20',\n",
    "       'C21', 'C22', 'C23', 'C24', 'C25', 'C26', 'C27', 'C28', 'C29', 'C30',\n",
    "       'C31', 'C32', 'C33', 'C34', 'C35', 'C36', 'C37', 'C38', 'C39', 'C40',\n",
    "       'C41', 'C42', 'C43', 'C44', 'C45', 'C46', 'C47', 'C48', 'C49', 'C50',\n",
    "       'C51', 'C52', 'C53', 'C54', 'C55', 'C56', 'C57', 'C58', 'C59', 'C60',\n",
    "       'C61', 'C62', 'C63', 'C64', 'C65', 'C66', 'C67', 'C68', 'C69', 'C70',\n",
    "       'C71', 'C72', 'C73', 'C74', 'C75', 'C76', 'C77', 'C78', 'C79', 'C80',\n",
    "       'C81', 'C82', 'C83', 'C84', 'C85', 'C86','attack'], axis =1)\n",
    "#TRAIN_DF_SET_COLUMNS.drop([ATTACK_FIELD],axis=1,inplace=True)\n",
    "COL = ['C03', 'C21', 'C23', 'C24', 'C48', 'C53', 'C55', 'C56', 'C58', 'C65', 'C66']\n",
    "TRAIN_DF_NOT_NORMALIZE= TRAIN_DF_SET_COLUMNS[COL]\n",
    "TRAIN_DF_NOT_NORMALIZE"
   ]
  },
  {
   "cell_type": "code",
   "execution_count": 8,
   "metadata": {
    "executionInfo": {
     "elapsed": 425,
     "status": "ok",
     "timestamp": 1654408819535,
     "user": {
      "displayName": "김동환",
      "userId": "02922448658282055726"
     },
     "user_tz": -540
    },
    "id": "b26ctHgzlApV"
   },
   "outputs": [],
   "source": [
    "#TRAIN_DF_NOT_NORMALIZE=TRAIN_DF_SET_COLUMNS.drop([TIMESTAMP_FIELD,ATTACK_FIELD], axis=1)\n",
    "#VALID_COLUMNS_IN_TRAIN_DATASET = TRAIN_DF_SET_COLUMNS.columns.drop([TIMESTAMP_FIELD,ATTACK_FIELD])\n",
    "VALID_COLUMNS_IN_TRAIN_DATASET = TRAIN_DF_NOT_NORMALIZE.columns\n",
    "TAG_MIN = TRAIN_DF_NOT_NORMALIZE[VALID_COLUMNS_IN_TRAIN_DATASET].min()\n",
    "TAG_MAX = TRAIN_DF_NOT_NORMALIZE[VALID_COLUMNS_IN_TRAIN_DATASET].max()"
   ]
  },
  {
   "cell_type": "code",
   "execution_count": 9,
   "metadata": {
    "executionInfo": {
     "elapsed": 8,
     "status": "ok",
     "timestamp": 1654408819536,
     "user": {
      "displayName": "김동환",
      "userId": "02922448658282055726"
     },
     "user_tz": -540
    },
    "id": "0egZHorplC6p"
   },
   "outputs": [],
   "source": [
    "def normalize(df): #정규화 \n",
    "    ndf = df.copy()\n",
    "    for c in df.columns:\n",
    "        if TAG_MIN[c] == TAG_MAX[c]:\n",
    "            ndf[c] = df[c] - TAG_MIN[c]\n",
    "        else:\n",
    "            ndf[c] = (df[c] - TAG_MIN[c]) / (TAG_MAX[c] - TAG_MIN[c])\n",
    "    return ndf"
   ]
  },
  {
   "cell_type": "code",
   "execution_count": 10,
   "metadata": {
    "executionInfo": {
     "elapsed": 7,
     "status": "ok",
     "timestamp": 1654408819536,
     "user": {
      "displayName": "김동환",
      "userId": "02922448658282055726"
     },
     "user_tz": -540
    },
    "id": "hYvJuUOGlEgH"
   },
   "outputs": [],
   "source": [
    "TRAIN_DF = normalize(TRAIN_DF_NOT_NORMALIZE[VALID_COLUMNS_IN_TRAIN_DATASET])"
   ]
  },
  {
   "cell_type": "code",
   "execution_count": 11,
   "metadata": {
    "executionInfo": {
     "elapsed": 7,
     "status": "ok",
     "timestamp": 1654408819536,
     "user": {
      "displayName": "김동환",
      "userId": "02922448658282055726"
     },
     "user_tz": -540
    },
    "id": "7gYG4PfklGUF"
   },
   "outputs": [],
   "source": [
    "def boundary_check(df): # 1초과의 값, 0 미만의 값, 결측치 확인\n",
    "    x = np.array(df, dtype=np.float32)\n",
    "    return np.any(x > 1.0), np.any(x < 0), np.any(np.isnan(x))"
   ]
  },
  {
   "cell_type": "code",
   "execution_count": 12,
   "metadata": {
    "colab": {
     "base_uri": "https://localhost:8080/"
    },
    "executionInfo": {
     "elapsed": 7,
     "status": "ok",
     "timestamp": 1654408819536,
     "user": {
      "displayName": "김동환",
      "userId": "02922448658282055726"
     },
     "user_tz": -540
    },
    "id": "s4unIy45lH7E",
    "outputId": "6655a2e8-8c77-4e0a-99f0-bc300add290f"
   },
   "outputs": [
    {
     "data": {
      "text/plain": [
       "(False, False, False)"
      ]
     },
     "execution_count": 12,
     "metadata": {},
     "output_type": "execute_result"
    }
   ],
   "source": [
    "boundary_check(TRAIN_DF)"
   ]
  },
  {
   "cell_type": "code",
   "execution_count": 13,
   "metadata": {
    "executionInfo": {
     "elapsed": 6,
     "status": "ok",
     "timestamp": 1654408819537,
     "user": {
      "displayName": "김동환",
      "userId": "02922448658282055726"
     },
     "user_tz": -540
    },
    "id": "-UVH_fUUcAZv"
   },
   "outputs": [],
   "source": [
    "def create_sequences(X, y, time_steps=1):\n",
    "    Xs, ys = [], []\n",
    "    for i in range(len(X) - time_steps):\n",
    "        Xs.append(X.iloc[i:(i+time_steps)].values)\n",
    "        ys.append(y.iloc[i + time_steps])\n",
    "    return np.array(Xs), np.array(ys)"
   ]
  },
  {
   "cell_type": "code",
   "execution_count": 14,
   "metadata": {
    "colab": {
     "base_uri": "https://localhost:8080/"
    },
    "executionInfo": {
     "elapsed": 6,
     "status": "ok",
     "timestamp": 1654408819537,
     "user": {
      "displayName": "김동환",
      "userId": "02922448658282055726"
     },
     "user_tz": -540
    },
    "id": "sHs3yVAjRizr",
    "outputId": "79c6a7fc-3695-4ea4-bff3-608872bd6d94"
   },
   "outputs": [
    {
     "data": {
      "text/plain": [
       "(16739, 60, 11)"
      ]
     },
     "execution_count": 14,
     "metadata": {},
     "output_type": "execute_result"
    }
   ],
   "source": [
    "train = TRAIN_DF.to_numpy()\n",
    "timesteps = 60\n",
    "train = train.reshape(-1,timesteps,train.shape[1])\n",
    "train.shape"
   ]
  },
  {
   "cell_type": "code",
   "execution_count": null,
   "metadata": {
    "id": "giuEaM1ufm5g"
   },
   "outputs": [],
   "source": [
    "#./drive/MyDrive/ICS_anomaly_detection/haicon/train/ICS_PCA.h5\n",
    "#./drive/MyDrive/ICS_anomaly_detection/haicon/train/ICS.h5\n",
    "#./drive/MyDrive/ICS_anomaly_detection/haicon/train/ICS_conv1d.h5"
   ]
  },
  {
   "cell_type": "code",
   "execution_count": 15,
   "metadata": {
    "colab": {
     "base_uri": "https://localhost:8080/"
    },
    "executionInfo": {
     "elapsed": 445009,
     "status": "ok",
     "timestamp": 1654409264542,
     "user": {
      "displayName": "김동환",
      "userId": "02922448658282055726"
     },
     "user_tz": -540
    },
    "id": "4fapvn28Risn",
    "outputId": "6914d60f-1d66-4611-aab3-7191ce0acc1a"
   },
   "outputs": [
    {
     "name": "stdout",
     "output_type": "stream",
     "text": [
      "Model: \"sequential\"\n",
      "_________________________________________________________________\n",
      " Layer (type)                Output Shape              Param #   \n",
      "=================================================================\n",
      " bidirectional (Bidirectiona  (16739, 60, 256)         143360    \n",
      " l)                                                              \n",
      "                                                                 \n",
      " dropout (Dropout)           (16739, 60, 256)          0         \n",
      "                                                                 \n",
      " bidirectional_1 (Bidirectio  (16739, 128)             164352    \n",
      " nal)                                                            \n",
      "                                                                 \n",
      " repeat_vector (RepeatVector  (16739, 60, 128)         0         \n",
      " )                                                               \n",
      "                                                                 \n",
      " bidirectional_2 (Bidirectio  (16739, 60, 128)         98816     \n",
      " nal)                                                            \n",
      "                                                                 \n",
      " bidirectional_3 (Bidirectio  (16739, 60, 256)         263168    \n",
      " nal)                                                            \n",
      "                                                                 \n",
      " time_distributed (TimeDistr  (16739, 60, 11)          2827      \n",
      " ibuted)                                                         \n",
      "                                                                 \n",
      "=================================================================\n",
      "Total params: 672,523\n",
      "Trainable params: 672,523\n",
      "Non-trainable params: 0\n",
      "_________________________________________________________________\n",
      "Epoch 1/100\n",
      "837/837 [==============================] - 55s 33ms/step - loss: 0.0026 - val_loss: 3.2096e-04\n",
      "Epoch 2/100\n",
      "837/837 [==============================] - 25s 30ms/step - loss: 3.4140e-04 - val_loss: 4.4836e-04\n",
      "Epoch 3/100\n",
      "837/837 [==============================] - 25s 30ms/step - loss: 3.3279e-04 - val_loss: 2.3447e-04\n",
      "Epoch 4/100\n",
      "837/837 [==============================] - 25s 30ms/step - loss: 2.4883e-04 - val_loss: 3.8322e-04\n",
      "Epoch 5/100\n",
      "837/837 [==============================] - 25s 30ms/step - loss: 5.6568e-04 - val_loss: 1.8099e-04\n",
      "Epoch 6/100\n",
      "837/837 [==============================] - 25s 30ms/step - loss: 2.3582e-04 - val_loss: 1.3150e-04\n",
      "Epoch 7/100\n",
      "837/837 [==============================] - 26s 31ms/step - loss: 1.7649e-04 - val_loss: 2.2663e-04\n",
      "Epoch 8/100\n",
      "837/837 [==============================] - 26s 31ms/step - loss: 1.7474e-04 - val_loss: 1.5574e-04\n",
      "Epoch 9/100\n",
      "837/837 [==============================] - 27s 32ms/step - loss: 3.1061e-04 - val_loss: 1.3657e-04\n",
      "Epoch 10/100\n",
      "837/837 [==============================] - 25s 30ms/step - loss: 1.6275e-04 - val_loss: 2.2540e-04\n",
      "Epoch 11/100\n",
      "837/837 [==============================] - 25s 30ms/step - loss: 2.6313e-04 - val_loss: 4.3830e-04\n",
      "Epoch 12/100\n",
      "837/837 [==============================] - 25s 30ms/step - loss: 1.8840e-04 - val_loss: 2.0707e-04\n",
      "Epoch 13/100\n",
      "837/837 [==============================] - 26s 31ms/step - loss: 1.9916e-04 - val_loss: 3.4328e-04\n",
      "Epoch 14/100\n",
      "837/837 [==============================] - 26s 31ms/step - loss: 1.5757e-04 - val_loss: 4.6256e-04\n",
      "Epoch 15/100\n",
      "837/837 [==============================] - 26s 31ms/step - loss: 1.3099e-04 - val_loss: 1.4147e-04\n",
      "Epoch 16/100\n",
      "837/837 [==============================] - 25s 30ms/step - loss: 1.3481e-04 - val_loss: 2.5910e-04\n"
     ]
    }
   ],
   "source": [
    "def modeling(x):\n",
    "  x_train = x\n",
    "  model = keras.Sequential()\n",
    "  model.add(layers.Bidirectional(layers.LSTM(128, activation='tanh', input_shape=(x_train.shape[1],x_train.shape[2]),return_sequences=True,kernel_initializer='glorot_normal')))\n",
    "  model.add(layers.Dropout(0.3))\n",
    "  model.add(layers.Bidirectional(layers.LSTM(64, activation='tanh', return_sequences=False,kernel_initializer='glorot_normal')))\n",
    "  #model.add(layers.RepeatVector(x.shape[1]))\n",
    "  model.add(layers.Bidirectional(layers.LSTM(64, activation='tanh', return_sequences=True,kernel_initializer='glorot_normal')))\n",
    "  model.add(layers.Bidirectional(layers.LSTM(128, activation='tanh',return_sequences=True,kernel_initializer='glorot_normal')))\n",
    "  model.add(layers.TimeDistributed(layers.Dense(x_train.shape[2],activation='linear'))) #error backpropagation\n",
    "  model.compile(optimizer='adam', loss='mse')\n",
    "  model.build(x_train.shape)\n",
    "  model.summary()\n",
    "  return model\n",
    "early_stopping = EarlyStopping(monitor = 'val_loss', min_delta = 0, patience = 10, mode = 'auto')\n",
    "model = modeling(train)\n",
    "model.compile(optimizer='adam', loss='mse')\n",
    "history = model.fit(train, train, epochs = 100, batch_size=16, validation_split=0.2, callbacks=[early_stopping]).history\n",
    "model.save('./drive/MyDrive/ICS_anomaly_detection/hai-22.04/model/group3/ICS_1.h5')"
   ]
  },
  {
   "cell_type": "code",
   "execution_count": 16,
   "metadata": {
    "colab": {
     "base_uri": "https://localhost:8080/",
     "height": 279
    },
    "executionInfo": {
     "elapsed": 627,
     "status": "ok",
     "timestamp": 1654409265158,
     "user": {
      "displayName": "김동환",
      "userId": "02922448658282055726"
     },
     "user_tz": -540
    },
    "id": "mEEyWSLpu_jr",
    "outputId": "cbfd7f29-e6be-44ad-a28a-1291cad70440"
   },
   "outputs": [
    {
     "data": {
      "image/png": "[encoded data removed]",
      "text/plain": [
       "<Figure size 432x288 with 1 Axes>"
      ]
     },
     "metadata": {
      "needs_background": "light"
     },
     "output_type": "display_data"
    }
   ],
   "source": [
    "plt.plot(history['loss'], label =\"train\")\n",
    "plt.plot(history['val_loss'], label=\"valid\")\n",
    "plt.legend()\n",
    "plt.xlabel('epoch')\n",
    "plt.ylabel('loss')\n",
    "plt.show()"
   ]
  },
  {
   "cell_type": "code",
   "execution_count": 17,
   "metadata": {
    "colab": {
     "base_uri": "https://localhost:8080/",
     "height": 424
    },
    "executionInfo": {
     "elapsed": 5615,
     "status": "ok",
     "timestamp": 1654409270768,
     "user": {
      "displayName": "김동환",
      "userId": "02922448658282055726"
     },
     "user_tz": -540
    },
    "id": "VOKQyLgL8uba",
    "outputId": "e34b064f-349d-42ce-8d6c-640593edf69d"
   },
   "outputs": [
    {
     "data": {
      "text/html": [
       "\n",
       "  <div id=\"df-804e0f48-b4ed-40b7-8aa5-f74588917ad1\">\n",
       "    <div class=\"colab-df-container\">\n",
       "      <div>\n",
       "<style scoped>\n",
       "    .dataframe tbody tr th:only-of-type {\n",
       "        vertical-align: middle;\n",
       "    }\n",
       "\n",
       "    .dataframe tbody tr th {\n",
       "        vertical-align: top;\n",
       "    }\n",
       "\n",
       "    .dataframe thead th {\n",
       "        text-align: right;\n",
       "    }\n",
       "</style>\n",
       "<table border=\"1\" class=\"dataframe\">\n",
       "  <thead>\n",
       "    <tr style=\"text-align: right;\">\n",
       "      <th></th>\n",
       "      <th>timestamp</th>\n",
       "      <th>P1_B2004</th>\n",
       "      <th>P1_B2016</th>\n",
       "      <th>P1_B3004</th>\n",
       "      <th>P1_B3005</th>\n",
       "      <th>P1_B4002</th>\n",
       "      <th>P1_B4005</th>\n",
       "      <th>P1_B400B</th>\n",
       "      <th>P1_B4022</th>\n",
       "      <th>P1_FCV01D</th>\n",
       "      <th>...</th>\n",
       "      <th>P4_HT_PS</th>\n",
       "      <th>P4_LD</th>\n",
       "      <th>P4_ST_FD</th>\n",
       "      <th>P4_ST_GOV</th>\n",
       "      <th>P4_ST_LD</th>\n",
       "      <th>P4_ST_PO</th>\n",
       "      <th>P4_ST_PS</th>\n",
       "      <th>P4_ST_PT01</th>\n",
       "      <th>P4_ST_TT01</th>\n",
       "      <th>Attack</th>\n",
       "    </tr>\n",
       "  </thead>\n",
       "  <tbody>\n",
       "    <tr>\n",
       "      <th>0</th>\n",
       "      <td>2021-07-10 0:00</td>\n",
       "      <td>0.059445</td>\n",
       "      <td>1.04366</td>\n",
       "      <td>431.328095</td>\n",
       "      <td>1034.712769</td>\n",
       "      <td>27.736847</td>\n",
       "      <td>14.91310</td>\n",
       "      <td>386.51172</td>\n",
       "      <td>31.52100</td>\n",
       "      <td>15.09755</td>\n",
       "      <td>...</td>\n",
       "      <td>0.716042</td>\n",
       "      <td>356.64423</td>\n",
       "      <td>0.00058</td>\n",
       "      <td>18131.0</td>\n",
       "      <td>292.86029</td>\n",
       "      <td>334.58112</td>\n",
       "      <td>20.989594</td>\n",
       "      <td>10000.0</td>\n",
       "      <td>27181.0</td>\n",
       "      <td>0.0</td>\n",
       "    </tr>\n",
       "    <tr>\n",
       "      <th>1</th>\n",
       "      <td>2021-07-10 0:00</td>\n",
       "      <td>0.059445</td>\n",
       "      <td>1.04217</td>\n",
       "      <td>431.328095</td>\n",
       "      <td>1034.712769</td>\n",
       "      <td>27.736847</td>\n",
       "      <td>14.95540</td>\n",
       "      <td>411.33905</td>\n",
       "      <td>31.51756</td>\n",
       "      <td>14.71477</td>\n",
       "      <td>...</td>\n",
       "      <td>0.716042</td>\n",
       "      <td>352.08698</td>\n",
       "      <td>-0.00282</td>\n",
       "      <td>18111.0</td>\n",
       "      <td>295.82605</td>\n",
       "      <td>332.97162</td>\n",
       "      <td>20.989594</td>\n",
       "      <td>9999.0</td>\n",
       "      <td>27174.0</td>\n",
       "      <td>0.0</td>\n",
       "    </tr>\n",
       "    <tr>\n",
       "      <th>2</th>\n",
       "      <td>2021-07-10 0:00</td>\n",
       "      <td>0.059445</td>\n",
       "      <td>1.03920</td>\n",
       "      <td>431.328095</td>\n",
       "      <td>1034.712769</td>\n",
       "      <td>27.736847</td>\n",
       "      <td>14.99200</td>\n",
       "      <td>438.15259</td>\n",
       "      <td>31.50269</td>\n",
       "      <td>14.30731</td>\n",
       "      <td>...</td>\n",
       "      <td>0.716042</td>\n",
       "      <td>347.63818</td>\n",
       "      <td>-0.00398</td>\n",
       "      <td>18100.0</td>\n",
       "      <td>300.02173</td>\n",
       "      <td>332.15784</td>\n",
       "      <td>20.989594</td>\n",
       "      <td>9999.0</td>\n",
       "      <td>27172.0</td>\n",
       "      <td>0.0</td>\n",
       "    </tr>\n",
       "    <tr>\n",
       "      <th>3</th>\n",
       "      <td>2021-07-10 0:00</td>\n",
       "      <td>0.059445</td>\n",
       "      <td>1.03222</td>\n",
       "      <td>431.328095</td>\n",
       "      <td>1034.712769</td>\n",
       "      <td>27.736847</td>\n",
       "      <td>15.01359</td>\n",
       "      <td>465.95908</td>\n",
       "      <td>31.47942</td>\n",
       "      <td>14.54943</td>\n",
       "      <td>...</td>\n",
       "      <td>0.716042</td>\n",
       "      <td>340.33203</td>\n",
       "      <td>-0.00152</td>\n",
       "      <td>18000.0</td>\n",
       "      <td>302.10144</td>\n",
       "      <td>330.96429</td>\n",
       "      <td>20.989594</td>\n",
       "      <td>9999.0</td>\n",
       "      <td>27168.0</td>\n",
       "      <td>0.0</td>\n",
       "    </tr>\n",
       "    <tr>\n",
       "      <th>4</th>\n",
       "      <td>2021-07-10 0:00</td>\n",
       "      <td>0.059445</td>\n",
       "      <td>1.02947</td>\n",
       "      <td>431.328095</td>\n",
       "      <td>1034.712769</td>\n",
       "      <td>27.736847</td>\n",
       "      <td>15.04767</td>\n",
       "      <td>452.05582</td>\n",
       "      <td>31.47942</td>\n",
       "      <td>15.24461</td>\n",
       "      <td>...</td>\n",
       "      <td>0.716042</td>\n",
       "      <td>335.17798</td>\n",
       "      <td>0.00072</td>\n",
       "      <td>17852.0</td>\n",
       "      <td>305.03113</td>\n",
       "      <td>329.02917</td>\n",
       "      <td>20.989594</td>\n",
       "      <td>9999.0</td>\n",
       "      <td>27172.0</td>\n",
       "      <td>0.0</td>\n",
       "    </tr>\n",
       "    <tr>\n",
       "      <th>...</th>\n",
       "      <td>...</td>\n",
       "      <td>...</td>\n",
       "      <td>...</td>\n",
       "      <td>...</td>\n",
       "      <td>...</td>\n",
       "      <td>...</td>\n",
       "      <td>...</td>\n",
       "      <td>...</td>\n",
       "      <td>...</td>\n",
       "      <td>...</td>\n",
       "      <td>...</td>\n",
       "      <td>...</td>\n",
       "      <td>...</td>\n",
       "      <td>...</td>\n",
       "      <td>...</td>\n",
       "      <td>...</td>\n",
       "      <td>...</td>\n",
       "      <td>...</td>\n",
       "      <td>...</td>\n",
       "      <td>...</td>\n",
       "      <td>...</td>\n",
       "    </tr>\n",
       "    <tr>\n",
       "      <th>129595</th>\n",
       "      <td>2021-07-16 23:59</td>\n",
       "      <td>0.069440</td>\n",
       "      <td>1.04908</td>\n",
       "      <td>467.038540</td>\n",
       "      <td>1015.069640</td>\n",
       "      <td>25.687170</td>\n",
       "      <td>29.89865</td>\n",
       "      <td>1056.03259</td>\n",
       "      <td>29.45263</td>\n",
       "      <td>14.31306</td>\n",
       "      <td>...</td>\n",
       "      <td>2.403980</td>\n",
       "      <td>373.20966</td>\n",
       "      <td>0.00036</td>\n",
       "      <td>17966.0</td>\n",
       "      <td>318.08813</td>\n",
       "      <td>327.31122</td>\n",
       "      <td>26.760940</td>\n",
       "      <td>9917.0</td>\n",
       "      <td>26971.0</td>\n",
       "      <td>0.0</td>\n",
       "    </tr>\n",
       "    <tr>\n",
       "      <th>129596</th>\n",
       "      <td>2021-07-16 23:59</td>\n",
       "      <td>0.069440</td>\n",
       "      <td>1.05057</td>\n",
       "      <td>467.038540</td>\n",
       "      <td>1015.069640</td>\n",
       "      <td>25.687170</td>\n",
       "      <td>29.95392</td>\n",
       "      <td>1026.05530</td>\n",
       "      <td>29.45758</td>\n",
       "      <td>15.02294</td>\n",
       "      <td>...</td>\n",
       "      <td>2.403980</td>\n",
       "      <td>376.66376</td>\n",
       "      <td>-0.00470</td>\n",
       "      <td>18073.0</td>\n",
       "      <td>317.78070</td>\n",
       "      <td>327.36548</td>\n",
       "      <td>26.760940</td>\n",
       "      <td>9917.0</td>\n",
       "      <td>26970.0</td>\n",
       "      <td>0.0</td>\n",
       "    </tr>\n",
       "    <tr>\n",
       "      <th>129597</th>\n",
       "      <td>2021-07-16 23:59</td>\n",
       "      <td>0.069440</td>\n",
       "      <td>1.04839</td>\n",
       "      <td>467.038540</td>\n",
       "      <td>1015.069640</td>\n",
       "      <td>25.687170</td>\n",
       "      <td>29.99687</td>\n",
       "      <td>981.37659</td>\n",
       "      <td>29.45034</td>\n",
       "      <td>16.00788</td>\n",
       "      <td>...</td>\n",
       "      <td>2.403980</td>\n",
       "      <td>377.76691</td>\n",
       "      <td>-0.00130</td>\n",
       "      <td>17983.0</td>\n",
       "      <td>319.11890</td>\n",
       "      <td>326.62396</td>\n",
       "      <td>26.760940</td>\n",
       "      <td>9916.0</td>\n",
       "      <td>26973.0</td>\n",
       "      <td>0.0</td>\n",
       "    </tr>\n",
       "    <tr>\n",
       "      <th>129598</th>\n",
       "      <td>2021-07-16 23:59</td>\n",
       "      <td>0.069440</td>\n",
       "      <td>1.04255</td>\n",
       "      <td>467.038540</td>\n",
       "      <td>1015.069640</td>\n",
       "      <td>25.687170</td>\n",
       "      <td>30.02627</td>\n",
       "      <td>919.62439</td>\n",
       "      <td>29.43088</td>\n",
       "      <td>16.76628</td>\n",
       "      <td>...</td>\n",
       "      <td>2.403980</td>\n",
       "      <td>378.99664</td>\n",
       "      <td>0.00087</td>\n",
       "      <td>17956.0</td>\n",
       "      <td>316.78607</td>\n",
       "      <td>326.47931</td>\n",
       "      <td>26.760940</td>\n",
       "      <td>9916.0</td>\n",
       "      <td>26975.0</td>\n",
       "      <td>0.0</td>\n",
       "    </tr>\n",
       "    <tr>\n",
       "      <th>129599</th>\n",
       "      <td>2021-07-17 0:00</td>\n",
       "      <td>0.069440</td>\n",
       "      <td>1.04072</td>\n",
       "      <td>467.038540</td>\n",
       "      <td>1015.069640</td>\n",
       "      <td>25.687170</td>\n",
       "      <td>30.06775</td>\n",
       "      <td>873.09271</td>\n",
       "      <td>29.42478</td>\n",
       "      <td>17.34040</td>\n",
       "      <td>...</td>\n",
       "      <td>2.403980</td>\n",
       "      <td>378.21906</td>\n",
       "      <td>0.00051</td>\n",
       "      <td>17918.0</td>\n",
       "      <td>318.50403</td>\n",
       "      <td>325.75598</td>\n",
       "      <td>26.760940</td>\n",
       "      <td>9916.0</td>\n",
       "      <td>26968.0</td>\n",
       "      <td>0.0</td>\n",
       "    </tr>\n",
       "  </tbody>\n",
       "</table>\n",
       "<p>336660 rows × 88 columns</p>\n",
       "</div>\n",
       "      <button class=\"colab-df-convert\" onclick=\"convertToInteractive('df-804e0f48-b4ed-40b7-8aa5-f74588917ad1')\"\n",
       "              title=\"Convert this dataframe to an interactive table.\"\n",
       "              style=\"display:none;\">\n",
       "        \n",
       "  <svg xmlns=\"http://www.w3.org/2000/svg\" height=\"24px\"viewBox=\"0 0 24 24\"\n",
       "       width=\"24px\">\n",
       "    <path d=\"M0 0h24v24H0V0z\" fill=\"none\"/>\n",
       "    <path d=\"M18.56 5.44l.94 2.06.94-2.06 2.06-.94-2.06-.94-.94-2.06-.94 2.06-2.06.94zm-11 1L8.5 8.5l.94-2.06 2.06-.94-2.06-.94L8.5 2.5l-.94 2.06-2.06.94zm10 10l.94 2.06.94-2.06 2.06-.94-2.06-.94-.94-2.06-.94 2.06-2.06.94z\"/><path d=\"M17.41 7.96l-1.37-1.37c-.4-.4-.92-.59-1.43-.59-.52 0-1.04.2-1.43.59L10.3 9.45l-7.72 7.72c-.78.78-.78 2.05 0 2.83L4 21.41c.39.39.9.59 1.41.59.51 0 1.02-.2 1.41-.59l7.78-7.78 2.81-2.81c.8-.78.8-2.07 0-2.86zM5.41 20L4 18.59l7.72-7.72 1.47 1.35L5.41 20z\"/>\n",
       "  </svg>\n",
       "      </button>\n",
       "      \n",
       "  <style>\n",
       "    .colab-df-container {\n",
       "      display:flex;\n",
       "      flex-wrap:wrap;\n",
       "      gap: 12px;\n",
       "    }\n",
       "\n",
       "    .colab-df-convert {\n",
       "      background-color: #E8F0FE;\n",
       "      border: none;\n",
       "      border-radius: 50%;\n",
       "      cursor: pointer;\n",
       "      display: none;\n",
       "      fill: #1967D2;\n",
       "      height: 32px;\n",
       "      padding: 0 0 0 0;\n",
       "      width: 32px;\n",
       "    }\n",
       "\n",
       "    .colab-df-convert:hover {\n",
       "      background-color: #E2EBFA;\n",
       "      box-shadow: 0px 1px 2px rgba(60, 64, 67, 0.3), 0px 1px 3px 1px rgba(60, 64, 67, 0.15);\n",
       "      fill: #174EA6;\n",
       "    }\n",
       "\n",
       "    [theme=dark] .colab-df-convert {\n",
       "      background-color: #3B4455;\n",
       "      fill: #D2E3FC;\n",
       "    }\n",
       "\n",
       "    [theme=dark] .colab-df-convert:hover {\n",
       "      background-color: #434B5C;\n",
       "      box-shadow: 0px 1px 3px 1px rgba(0, 0, 0, 0.15);\n",
       "      filter: drop-shadow(0px 1px 2px rgba(0, 0, 0, 0.3));\n",
       "      fill: #FFFFFF;\n",
       "    }\n",
       "  </style>\n",
       "\n",
       "      <script>\n",
       "        const buttonEl =\n",
       "          document.querySelector('#df-804e0f48-b4ed-40b7-8aa5-f74588917ad1 button.colab-df-convert');\n",
       "        buttonEl.style.display =\n",
       "          google.colab.kernel.accessAllowed ? 'block' : 'none';\n",
       "\n",
       "        async function convertToInteractive(key) {\n",
       "          const element = document.querySelector('#df-804e0f48-b4ed-40b7-8aa5-f74588917ad1');\n",
       "          const dataTable =\n",
       "            await google.colab.kernel.invokeFunction('convertToInteractive',\n",
       "                                                     [key], {});\n",
       "          if (!dataTable) return;\n",
       "\n",
       "          const docLinkHtml = 'Like what you see? Visit the ' +\n",
       "            '<a target=\"_blank\" href=https://colab.research.google.com/notebooks/data_table.ipynb>data table notebook</a>'\n",
       "            + ' to learn more about interactive tables.';\n",
       "          element.innerHTML = '';\n",
       "          dataTable['output_type'] = 'display_data';\n",
       "          await google.colab.output.renderOutput(dataTable, element);\n",
       "          const docLink = document.createElement('div');\n",
       "          docLink.innerHTML = docLinkHtml;\n",
       "          element.appendChild(docLink);\n",
       "        }\n",
       "      </script>\n",
       "    </div>\n",
       "  </div>\n",
       "  "
      ],
      "text/plain": [
       "               timestamp  P1_B2004  P1_B2016    P1_B3004     P1_B3005  \\\n",
       "0        2021-07-10 0:00  0.059445   1.04366  431.328095  1034.712769   \n",
       "1        2021-07-10 0:00  0.059445   1.04217  431.328095  1034.712769   \n",
       "2        2021-07-10 0:00  0.059445   1.03920  431.328095  1034.712769   \n",
       "3        2021-07-10 0:00  0.059445   1.03222  431.328095  1034.712769   \n",
       "4        2021-07-10 0:00  0.059445   1.02947  431.328095  1034.712769   \n",
       "...                  ...       ...       ...         ...          ...   \n",
       "129595  2021-07-16 23:59  0.069440   1.04908  467.038540  1015.069640   \n",
       "129596  2021-07-16 23:59  0.069440   1.05057  467.038540  1015.069640   \n",
       "129597  2021-07-16 23:59  0.069440   1.04839  467.038540  1015.069640   \n",
       "129598  2021-07-16 23:59  0.069440   1.04255  467.038540  1015.069640   \n",
       "129599   2021-07-17 0:00  0.069440   1.04072  467.038540  1015.069640   \n",
       "\n",
       "         P1_B4002  P1_B4005    P1_B400B  P1_B4022  P1_FCV01D  ...  P4_HT_PS  \\\n",
       "0       27.736847  14.91310   386.51172  31.52100   15.09755  ...  0.716042   \n",
       "1       27.736847  14.95540   411.33905  31.51756   14.71477  ...  0.716042   \n",
       "2       27.736847  14.99200   438.15259  31.50269   14.30731  ...  0.716042   \n",
       "3       27.736847  15.01359   465.95908  31.47942   14.54943  ...  0.716042   \n",
       "4       27.736847  15.04767   452.05582  31.47942   15.24461  ...  0.716042   \n",
       "...           ...       ...         ...       ...        ...  ...       ...   \n",
       "129595  25.687170  29.89865  1056.03259  29.45263   14.31306  ...  2.403980   \n",
       "129596  25.687170  29.95392  1026.05530  29.45758   15.02294  ...  2.403980   \n",
       "129597  25.687170  29.99687   981.37659  29.45034   16.00788  ...  2.403980   \n",
       "129598  25.687170  30.02627   919.62439  29.43088   16.76628  ...  2.403980   \n",
       "129599  25.687170  30.06775   873.09271  29.42478   17.34040  ...  2.403980   \n",
       "\n",
       "            P4_LD  P4_ST_FD  P4_ST_GOV   P4_ST_LD   P4_ST_PO   P4_ST_PS  \\\n",
       "0       356.64423   0.00058    18131.0  292.86029  334.58112  20.989594   \n",
       "1       352.08698  -0.00282    18111.0  295.82605  332.97162  20.989594   \n",
       "2       347.63818  -0.00398    18100.0  300.02173  332.15784  20.989594   \n",
       "3       340.33203  -0.00152    18000.0  302.10144  330.96429  20.989594   \n",
       "4       335.17798   0.00072    17852.0  305.03113  329.02917  20.989594   \n",
       "...           ...       ...        ...        ...        ...        ...   \n",
       "129595  373.20966   0.00036    17966.0  318.08813  327.31122  26.760940   \n",
       "129596  376.66376  -0.00470    18073.0  317.78070  327.36548  26.760940   \n",
       "129597  377.76691  -0.00130    17983.0  319.11890  326.62396  26.760940   \n",
       "129598  378.99664   0.00087    17956.0  316.78607  326.47931  26.760940   \n",
       "129599  378.21906   0.00051    17918.0  318.50403  325.75598  26.760940   \n",
       "\n",
       "        P4_ST_PT01  P4_ST_TT01  Attack  \n",
       "0          10000.0     27181.0     0.0  \n",
       "1           9999.0     27174.0     0.0  \n",
       "2           9999.0     27172.0     0.0  \n",
       "3           9999.0     27168.0     0.0  \n",
       "4           9999.0     27172.0     0.0  \n",
       "...            ...         ...     ...  \n",
       "129595      9917.0     26971.0     0.0  \n",
       "129596      9917.0     26970.0     0.0  \n",
       "129597      9916.0     26973.0     0.0  \n",
       "129598      9916.0     26975.0     0.0  \n",
       "129599      9916.0     26968.0     0.0  \n",
       "\n",
       "[336660 rows x 88 columns]"
      ]
     },
     "execution_count": 17,
     "metadata": {},
     "output_type": "execute_result"
    }
   ],
   "source": [
    "TEST_DF_RAW = dataframe_from_csvs(TEST_DATASET)#Load TEST_DATASET\n",
    "TEST_DF_RAW"
   ]
  },
  {
   "cell_type": "code",
   "execution_count": 18,
   "metadata": {
    "colab": {
     "base_uri": "https://localhost:8080/",
     "height": 424
    },
    "executionInfo": {
     "elapsed": 551,
     "status": "ok",
     "timestamp": 1654409271314,
     "user": {
      "displayName": "김동환",
      "userId": "02922448658282055726"
     },
     "user_tz": -540
    },
    "id": "phr51mWf9n-v",
    "outputId": "4a508514-37dc-49ab-84a2-4c2811f1cd5a"
   },
   "outputs": [
    {
     "data": {
      "text/html": [
       "\n",
       "  <div id=\"df-88c94eca-afea-4788-8619-c2a91519dc71\">\n",
       "    <div class=\"colab-df-container\">\n",
       "      <div>\n",
       "<style scoped>\n",
       "    .dataframe tbody tr th:only-of-type {\n",
       "        vertical-align: middle;\n",
       "    }\n",
       "\n",
       "    .dataframe tbody tr th {\n",
       "        vertical-align: top;\n",
       "    }\n",
       "\n",
       "    .dataframe thead th {\n",
       "        text-align: right;\n",
       "    }\n",
       "</style>\n",
       "<table border=\"1\" class=\"dataframe\">\n",
       "  <thead>\n",
       "    <tr style=\"text-align: right;\">\n",
       "      <th></th>\n",
       "      <th>C03</th>\n",
       "      <th>C21</th>\n",
       "      <th>C23</th>\n",
       "      <th>C24</th>\n",
       "      <th>C48</th>\n",
       "      <th>C53</th>\n",
       "      <th>C55</th>\n",
       "      <th>C56</th>\n",
       "      <th>C58</th>\n",
       "      <th>C65</th>\n",
       "      <th>C66</th>\n",
       "    </tr>\n",
       "  </thead>\n",
       "  <tbody>\n",
       "    <tr>\n",
       "      <th>0</th>\n",
       "      <td>431.328095</td>\n",
       "      <td>11.82125</td>\n",
       "      <td>437.98016</td>\n",
       "      <td>29.50472</td>\n",
       "      <td>129.60573</td>\n",
       "      <td>12.903438</td>\n",
       "      <td>2880.0</td>\n",
       "      <td>54830.0</td>\n",
       "      <td>927.0</td>\n",
       "      <td>50.0</td>\n",
       "      <td>50.0</td>\n",
       "    </tr>\n",
       "    <tr>\n",
       "      <th>1</th>\n",
       "      <td>431.328095</td>\n",
       "      <td>11.80655</td>\n",
       "      <td>437.62238</td>\n",
       "      <td>29.41619</td>\n",
       "      <td>129.60573</td>\n",
       "      <td>12.903438</td>\n",
       "      <td>2880.0</td>\n",
       "      <td>54829.0</td>\n",
       "      <td>926.0</td>\n",
       "      <td>50.0</td>\n",
       "      <td>50.0</td>\n",
       "    </tr>\n",
       "    <tr>\n",
       "      <th>2</th>\n",
       "      <td>431.328095</td>\n",
       "      <td>11.84254</td>\n",
       "      <td>437.11121</td>\n",
       "      <td>29.31749</td>\n",
       "      <td>129.60573</td>\n",
       "      <td>12.903438</td>\n",
       "      <td>2880.0</td>\n",
       "      <td>54828.0</td>\n",
       "      <td>927.0</td>\n",
       "      <td>50.0</td>\n",
       "      <td>50.0</td>\n",
       "    </tr>\n",
       "    <tr>\n",
       "      <th>3</th>\n",
       "      <td>431.328095</td>\n",
       "      <td>11.93167</td>\n",
       "      <td>437.16232</td>\n",
       "      <td>29.26632</td>\n",
       "      <td>129.60573</td>\n",
       "      <td>12.903438</td>\n",
       "      <td>2880.0</td>\n",
       "      <td>54829.0</td>\n",
       "      <td>924.0</td>\n",
       "      <td>50.0</td>\n",
       "      <td>50.0</td>\n",
       "    </tr>\n",
       "    <tr>\n",
       "      <th>4</th>\n",
       "      <td>431.328095</td>\n",
       "      <td>11.85563</td>\n",
       "      <td>437.11121</td>\n",
       "      <td>29.20597</td>\n",
       "      <td>129.60573</td>\n",
       "      <td>12.903438</td>\n",
       "      <td>2880.0</td>\n",
       "      <td>54830.0</td>\n",
       "      <td>927.0</td>\n",
       "      <td>50.0</td>\n",
       "      <td>50.0</td>\n",
       "    </tr>\n",
       "    <tr>\n",
       "      <th>...</th>\n",
       "      <td>...</td>\n",
       "      <td>...</td>\n",
       "      <td>...</td>\n",
       "      <td>...</td>\n",
       "      <td>...</td>\n",
       "      <td>...</td>\n",
       "      <td>...</td>\n",
       "      <td>...</td>\n",
       "      <td>...</td>\n",
       "      <td>...</td>\n",
       "      <td>...</td>\n",
       "    </tr>\n",
       "    <tr>\n",
       "      <th>336655</th>\n",
       "      <td>467.038540</td>\n",
       "      <td>18.94407</td>\n",
       "      <td>460.57385</td>\n",
       "      <td>28.35412</td>\n",
       "      <td>108.24304</td>\n",
       "      <td>12.588700</td>\n",
       "      <td>2880.0</td>\n",
       "      <td>54718.0</td>\n",
       "      <td>904.0</td>\n",
       "      <td>50.0</td>\n",
       "      <td>50.0</td>\n",
       "    </tr>\n",
       "    <tr>\n",
       "      <th>336656</th>\n",
       "      <td>467.038540</td>\n",
       "      <td>19.03034</td>\n",
       "      <td>460.16495</td>\n",
       "      <td>28.47250</td>\n",
       "      <td>108.24304</td>\n",
       "      <td>12.588700</td>\n",
       "      <td>2880.0</td>\n",
       "      <td>54718.0</td>\n",
       "      <td>904.0</td>\n",
       "      <td>50.0</td>\n",
       "      <td>50.0</td>\n",
       "    </tr>\n",
       "    <tr>\n",
       "      <th>336657</th>\n",
       "      <td>467.038540</td>\n",
       "      <td>19.14196</td>\n",
       "      <td>460.42050</td>\n",
       "      <td>28.55770</td>\n",
       "      <td>108.24304</td>\n",
       "      <td>12.588700</td>\n",
       "      <td>2880.0</td>\n",
       "      <td>54718.0</td>\n",
       "      <td>906.0</td>\n",
       "      <td>50.0</td>\n",
       "      <td>50.0</td>\n",
       "    </tr>\n",
       "    <tr>\n",
       "      <th>336658</th>\n",
       "      <td>467.038540</td>\n",
       "      <td>19.18427</td>\n",
       "      <td>460.36938</td>\n",
       "      <td>28.58998</td>\n",
       "      <td>108.24304</td>\n",
       "      <td>12.588700</td>\n",
       "      <td>2880.0</td>\n",
       "      <td>54717.0</td>\n",
       "      <td>904.0</td>\n",
       "      <td>50.0</td>\n",
       "      <td>50.0</td>\n",
       "    </tr>\n",
       "    <tr>\n",
       "      <th>336659</th>\n",
       "      <td>467.038540</td>\n",
       "      <td>19.21315</td>\n",
       "      <td>460.52277</td>\n",
       "      <td>28.64038</td>\n",
       "      <td>108.24304</td>\n",
       "      <td>12.588700</td>\n",
       "      <td>2880.0</td>\n",
       "      <td>54717.0</td>\n",
       "      <td>903.0</td>\n",
       "      <td>50.0</td>\n",
       "      <td>50.0</td>\n",
       "    </tr>\n",
       "  </tbody>\n",
       "</table>\n",
       "<p>336600 rows × 11 columns</p>\n",
       "</div>\n",
       "      <button class=\"colab-df-convert\" onclick=\"convertToInteractive('df-88c94eca-afea-4788-8619-c2a91519dc71')\"\n",
       "              title=\"Convert this dataframe to an interactive table.\"\n",
       "              style=\"display:none;\">\n",
       "        \n",
       "  <svg xmlns=\"http://www.w3.org/2000/svg\" height=\"24px\"viewBox=\"0 0 24 24\"\n",
       "       width=\"24px\">\n",
       "    <path d=\"M0 0h24v24H0V0z\" fill=\"none\"/>\n",
       "    <path d=\"M18.56 5.44l.94 2.06.94-2.06 2.06-.94-2.06-.94-.94-2.06-.94 2.06-2.06.94zm-11 1L8.5 8.5l.94-2.06 2.06-.94-2.06-.94L8.5 2.5l-.94 2.06-2.06.94zm10 10l.94 2.06.94-2.06 2.06-.94-2.06-.94-.94-2.06-.94 2.06-2.06.94z\"/><path d=\"M17.41 7.96l-1.37-1.37c-.4-.4-.92-.59-1.43-.59-.52 0-1.04.2-1.43.59L10.3 9.45l-7.72 7.72c-.78.78-.78 2.05 0 2.83L4 21.41c.39.39.9.59 1.41.59.51 0 1.02-.2 1.41-.59l7.78-7.78 2.81-2.81c.8-.78.8-2.07 0-2.86zM5.41 20L4 18.59l7.72-7.72 1.47 1.35L5.41 20z\"/>\n",
       "  </svg>\n",
       "      </button>\n",
       "      \n",
       "  <style>\n",
       "    .colab-df-container {\n",
       "      display:flex;\n",
       "      flex-wrap:wrap;\n",
       "      gap: 12px;\n",
       "    }\n",
       "\n",
       "    .colab-df-convert {\n",
       "      background-color: #E8F0FE;\n",
       "      border: none;\n",
       "      border-radius: 50%;\n",
       "      cursor: pointer;\n",
       "      display: none;\n",
       "      fill: #1967D2;\n",
       "      height: 32px;\n",
       "      padding: 0 0 0 0;\n",
       "      width: 32px;\n",
       "    }\n",
       "\n",
       "    .colab-df-convert:hover {\n",
       "      background-color: #E2EBFA;\n",
       "      box-shadow: 0px 1px 2px rgba(60, 64, 67, 0.3), 0px 1px 3px 1px rgba(60, 64, 67, 0.15);\n",
       "      fill: #174EA6;\n",
       "    }\n",
       "\n",
       "    [theme=dark] .colab-df-convert {\n",
       "      background-color: #3B4455;\n",
       "      fill: #D2E3FC;\n",
       "    }\n",
       "\n",
       "    [theme=dark] .colab-df-convert:hover {\n",
       "      background-color: #434B5C;\n",
       "      box-shadow: 0px 1px 3px 1px rgba(0, 0, 0, 0.15);\n",
       "      filter: drop-shadow(0px 1px 2px rgba(0, 0, 0, 0.3));\n",
       "      fill: #FFFFFF;\n",
       "    }\n",
       "  </style>\n",
       "\n",
       "      <script>\n",
       "        const buttonEl =\n",
       "          document.querySelector('#df-88c94eca-afea-4788-8619-c2a91519dc71 button.colab-df-convert');\n",
       "        buttonEl.style.display =\n",
       "          google.colab.kernel.accessAllowed ? 'block' : 'none';\n",
       "\n",
       "        async function convertToInteractive(key) {\n",
       "          const element = document.querySelector('#df-88c94eca-afea-4788-8619-c2a91519dc71');\n",
       "          const dataTable =\n",
       "            await google.colab.kernel.invokeFunction('convertToInteractive',\n",
       "                                                     [key], {});\n",
       "          if (!dataTable) return;\n",
       "\n",
       "          const docLinkHtml = 'Like what you see? Visit the ' +\n",
       "            '<a target=\"_blank\" href=https://colab.research.google.com/notebooks/data_table.ipynb>data table notebook</a>'\n",
       "            + ' to learn more about interactive tables.';\n",
       "          element.innerHTML = '';\n",
       "          dataTable['output_type'] = 'display_data';\n",
       "          await google.colab.output.renderOutput(dataTable, element);\n",
       "          const docLink = document.createElement('div');\n",
       "          docLink.innerHTML = docLinkHtml;\n",
       "          element.appendChild(docLink);\n",
       "        }\n",
       "      </script>\n",
       "    </div>\n",
       "  </div>\n",
       "  "
      ],
      "text/plain": [
       "               C03       C21        C23       C24        C48        C53  \\\n",
       "0       431.328095  11.82125  437.98016  29.50472  129.60573  12.903438   \n",
       "1       431.328095  11.80655  437.62238  29.41619  129.60573  12.903438   \n",
       "2       431.328095  11.84254  437.11121  29.31749  129.60573  12.903438   \n",
       "3       431.328095  11.93167  437.16232  29.26632  129.60573  12.903438   \n",
       "4       431.328095  11.85563  437.11121  29.20597  129.60573  12.903438   \n",
       "...            ...       ...        ...       ...        ...        ...   \n",
       "336655  467.038540  18.94407  460.57385  28.35412  108.24304  12.588700   \n",
       "336656  467.038540  19.03034  460.16495  28.47250  108.24304  12.588700   \n",
       "336657  467.038540  19.14196  460.42050  28.55770  108.24304  12.588700   \n",
       "336658  467.038540  19.18427  460.36938  28.58998  108.24304  12.588700   \n",
       "336659  467.038540  19.21315  460.52277  28.64038  108.24304  12.588700   \n",
       "\n",
       "           C55      C56    C58   C65   C66  \n",
       "0       2880.0  54830.0  927.0  50.0  50.0  \n",
       "1       2880.0  54829.0  926.0  50.0  50.0  \n",
       "2       2880.0  54828.0  927.0  50.0  50.0  \n",
       "3       2880.0  54829.0  924.0  50.0  50.0  \n",
       "4       2880.0  54830.0  927.0  50.0  50.0  \n",
       "...        ...      ...    ...   ...   ...  \n",
       "336655  2880.0  54718.0  904.0  50.0  50.0  \n",
       "336656  2880.0  54718.0  904.0  50.0  50.0  \n",
       "336657  2880.0  54718.0  906.0  50.0  50.0  \n",
       "336658  2880.0  54717.0  904.0  50.0  50.0  \n",
       "336659  2880.0  54717.0  903.0  50.0  50.0  \n",
       "\n",
       "[336600 rows x 11 columns]"
      ]
     },
     "execution_count": 18,
     "metadata": {},
     "output_type": "execute_result"
    }
   ],
   "source": [
    "TEST_DF_RAW.reset_index(drop=True,inplace=True)\n",
    "TEST_DF_SET_COLUMNS=TEST_DF_RAW.set_axis(['timestamp', 'C01', 'C02', 'C03', 'C04', 'C05', 'C06', 'C07', 'C08', 'C09', 'C10',\n",
    "       'C11', 'C12', 'C13', 'C14', 'C15', 'C16', 'C17', 'C18', 'C19', 'C20',\n",
    "       'C21', 'C22', 'C23', 'C24', 'C25', 'C26', 'C27', 'C28', 'C29', 'C30',\n",
    "       'C31', 'C32', 'C33', 'C34', 'C35', 'C36', 'C37', 'C38', 'C39', 'C40',\n",
    "       'C41', 'C42', 'C43', 'C44', 'C45', 'C46', 'C47', 'C48', 'C49', 'C50',\n",
    "       'C51', 'C52', 'C53', 'C54', 'C55', 'C56', 'C57', 'C58', 'C59', 'C60',\n",
    "       'C61', 'C62', 'C63', 'C64', 'C65', 'C66', 'C67', 'C68', 'C69', 'C70',\n",
    "       'C71', 'C72', 'C73', 'C74', 'C75', 'C76', 'C77', 'C78', 'C79', 'C80',\n",
    "       'C81', 'C82', 'C83', 'C84', 'C85', 'C86','attack'], axis =1)\n",
    "TEST_DF_SET_COLUMNS=TEST_DF_SET_COLUMNS.dropna()\n",
    "TEST_DF_NOT_NORMALIZE= TEST_DF_SET_COLUMNS[COL]\n",
    "TEST_DF_NOT_NORMALIZE"
   ]
  },
  {
   "cell_type": "code",
   "execution_count": 19,
   "metadata": {
    "executionInfo": {
     "elapsed": 14,
     "status": "ok",
     "timestamp": 1654409271314,
     "user": {
      "displayName": "김동환",
      "userId": "02922448658282055726"
     },
     "user_tz": -540
    },
    "id": "GC98VHfBL0EU"
   },
   "outputs": [],
   "source": [
    "#TEST_DF_NOT_NORMALIZE=TEST_DF_SET_COLUMNS.drop([TIMESTAMP_FIELD], axis=1)\n",
    "#VALID_COLUMNS_IN_TEST_DATASET = TEST_DF_SET_COLUMNS.columns.drop([TIMESTAMP_FIELD,ATTACK_FIELD])\n",
    "VALID_COLUMNS_IN_TEST_DATASET = TEST_DF_NOT_NORMALIZE.columns\n",
    "#TAG_MIN = TEST_DF_NOT_NORMALIZE[VALID_COLUMNS_IN_TEST_DATASET].min()\n",
    "#TAG_MAX = TEST_DF_NOT_NORMALIZE[VALID_COLUMNS_IN_TEST_DATASET].max()#parameter setting to noralize TEST_DF"
   ]
  },
  {
   "cell_type": "code",
   "execution_count": 20,
   "metadata": {
    "executionInfo": {
     "elapsed": 12,
     "status": "ok",
     "timestamp": 1654409271314,
     "user": {
      "displayName": "김동환",
      "userId": "02922448658282055726"
     },
     "user_tz": -540
    },
    "id": "Kg4akSqUMDpn"
   },
   "outputs": [],
   "source": [
    "TEST_DF = normalize(TEST_DF_NOT_NORMALIZE[VALID_COLUMNS_IN_TEST_DATASET]) #MIN_MAX Normalize TEST_DF"
   ]
  },
  {
   "cell_type": "code",
   "execution_count": null,
   "metadata": {
    "colab": {
     "base_uri": "https://localhost:8080/",
     "height": 92
    },
    "executionInfo": {
     "elapsed": 13,
     "status": "ok",
     "timestamp": 1653968670899,
     "user": {
      "displayName": "김동환",
      "userId": "02922448658282055726"
     },
     "user_tz": -540
    },
    "id": "SRG8O0e9QXQ4",
    "outputId": "86132edb-6277-4d0a-bed6-4c31b941fc6c"
   },
   "outputs": [
    {
     "data": {
      "application/vnd.google.colaboratory.intrinsic+json": {
       "type": "string"
      },
      "text/plain": [
       "\"TEST_DF =TEST_DF.drop(['C29', 'C31', 'C32', 'C33', 'C34', 'C35', 'C36', 'C39', 'C40', 'C41', 'C49', 'C54', 'C55', 'C59', 'C65', 'C66', 'C67', 'C68'],axis=1)\\nTEST_DF=TEST_DF.set_axis(['C01', 'C02', 'C03', 'C04', 'C05', 'C06', 'C07', 'C08', 'C09', 'C10',\\n       'C11', 'C12', 'C13', 'C14', 'C15', 'C16', 'C17', 'C18', 'C19', 'C20',\\n       'C21', 'C22', 'C23', 'C24', 'C25', 'C26', 'C27', 'C28', 'C29', 'C30',\\n       'C31', 'C32', 'C33', 'C34', 'C35', 'C36', 'C37', 'C38', 'C39', 'C40',\\n       'C41', 'C42', 'C43', 'C44', 'C45', 'C46', 'C47', 'C48', 'C49', 'C50',\\n       'C51', 'C52', 'C53', 'C54', 'C55', 'C56', 'C57', 'C58', 'C59', 'C60',\\n       'C61', 'C62', 'C63', 'C64', 'C65', 'C66','C67','C68'], axis =1) #set column name\\n#TEST_DF.drop(['C08','C09','C16','C18','C19','C20','C22','C23','C25','C39','C41','C43','C49','C53','C62','C63','C65','C66'], axis=1, inplace=True)\\n#TEST_DF=TEST_DF.set_axis(['C01', 'C02', 'C03', 'C04', 'C05', 'C06', 'C07', 'C08', 'C09', 'C10',\\n      # 'C11', 'C12', 'C13', 'C14', 'C15', 'C16', 'C17', 'C18', 'C19', 'C20',\\n       #'C21', 'C22', 'C23', 'C24', 'C25', 'C26', 'C27', 'C28', 'C29', 'C30',\\n       #'C31', 'C32', 'C33', 'C34', 'C35', 'C36', 'C37', 'C38', 'C39', 'C40',\\n       #'C41', 'C42', 'C43', 'C44', 'C45', 'C46', 'C47', 'C48', 'C49', 'C50'], axis =1)\\nTEST_DF\""
      ]
     },
     "execution_count": 20,
     "metadata": {},
     "output_type": "execute_result"
    }
   ],
   "source": [
    "'''TEST_DF =TEST_DF.drop(['C29', 'C31', 'C32', 'C33', 'C34', 'C35', 'C36', 'C39', 'C40', 'C41', 'C49', 'C54', 'C55', 'C59', 'C65', 'C66', 'C67', 'C68'],axis=1)\n",
    "TEST_DF=TEST_DF.set_axis(['C01', 'C02', 'C03', 'C04', 'C05', 'C06', 'C07', 'C08', 'C09', 'C10',\n",
    "       'C11', 'C12', 'C13', 'C14', 'C15', 'C16', 'C17', 'C18', 'C19', 'C20',\n",
    "       'C21', 'C22', 'C23', 'C24', 'C25', 'C26', 'C27', 'C28', 'C29', 'C30',\n",
    "       'C31', 'C32', 'C33', 'C34', 'C35', 'C36', 'C37', 'C38', 'C39', 'C40',\n",
    "       'C41', 'C42', 'C43', 'C44', 'C45', 'C46', 'C47', 'C48', 'C49', 'C50',\n",
    "       'C51', 'C52', 'C53', 'C54', 'C55', 'C56', 'C57', 'C58', 'C59', 'C60',\n",
    "       'C61', 'C62', 'C63', 'C64', 'C65', 'C66','C67','C68'], axis =1) #set column name\n",
    "#TEST_DF.drop(['C08','C09','C16','C18','C19','C20','C22','C23','C25','C39','C41','C43','C49','C53','C62','C63','C65','C66'], axis=1, inplace=True)\n",
    "#TEST_DF=TEST_DF.set_axis(['C01', 'C02', 'C03', 'C04', 'C05', 'C06', 'C07', 'C08', 'C09', 'C10',\n",
    "      # 'C11', 'C12', 'C13', 'C14', 'C15', 'C16', 'C17', 'C18', 'C19', 'C20',\n",
    "       #'C21', 'C22', 'C23', 'C24', 'C25', 'C26', 'C27', 'C28', 'C29', 'C30',\n",
    "       #'C31', 'C32', 'C33', 'C34', 'C35', 'C36', 'C37', 'C38', 'C39', 'C40',\n",
    "       #'C41', 'C42', 'C43', 'C44', 'C45', 'C46', 'C47', 'C48', 'C49', 'C50'], axis =1)\n",
    "TEST_DF'''"
   ]
  },
  {
   "cell_type": "code",
   "execution_count": 21,
   "metadata": {
    "colab": {
     "base_uri": "https://localhost:8080/"
    },
    "executionInfo": {
     "elapsed": 12,
     "status": "ok",
     "timestamp": 1654409271314,
     "user": {
      "displayName": "김동환",
      "userId": "02922448658282055726"
     },
     "user_tz": -540
    },
    "id": "eXlUkqba5fIi",
    "outputId": "b7060a17-d837-4980-b9d2-8e1b90e4f838"
   },
   "outputs": [
    {
     "data": {
      "text/plain": [
       "336600"
      ]
     },
     "execution_count": 21,
     "metadata": {},
     "output_type": "execute_result"
    }
   ],
   "source": [
    "attack_answer = TEST_DF_SET_COLUMNS['attack']\n",
    "attack_answer = attack_answer.to_numpy()\n",
    "len(attack_answer)"
   ]
  },
  {
   "cell_type": "code",
   "execution_count": 22,
   "metadata": {
    "colab": {
     "base_uri": "https://localhost:8080/"
    },
    "executionInfo": {
     "elapsed": 8,
     "status": "ok",
     "timestamp": 1654409271315,
     "user": {
      "displayName": "김동환",
      "userId": "02922448658282055726"
     },
     "user_tz": -540
    },
    "id": "31iy_PvEQpIx",
    "outputId": "b850de29-2c53-43a2-ff5b-466dc70c4688"
   },
   "outputs": [
    {
     "data": {
      "text/plain": [
       "(True, True, False)"
      ]
     },
     "execution_count": 22,
     "metadata": {},
     "output_type": "execute_result"
    }
   ],
   "source": [
    "boundary_check(TEST_DF)"
   ]
  },
  {
   "cell_type": "code",
   "execution_count": 25,
   "metadata": {
    "executionInfo": {
     "elapsed": 9175,
     "status": "ok",
     "timestamp": 1654409525930,
     "user": {
      "displayName": "김동환",
      "userId": "02922448658282055726"
     },
     "user_tz": -540
    },
    "id": "Y1jmlFFPdY5j"
   },
   "outputs": [],
   "source": [
    "model = tf.keras.models.load_model('./drive/MyDrive/ICS_anomaly_detection/hai-22.04/model/group3/ICS_1.h5')\n",
    "x_test = TEST_DF.to_numpy()\n",
    "test = x_test.reshape(-1,timesteps,x_test.shape[1])\n",
    "predict_df = model.predict(test)"
   ]
  },
  {
   "cell_type": "code",
   "execution_count": 26,
   "metadata": {
    "executionInfo": {
     "elapsed": 5,
     "status": "ok",
     "timestamp": 1654409525930,
     "user": {
      "displayName": "김동환",
      "userId": "02922448658282055726"
     },
     "user_tz": -540
    },
    "id": "dwYQ_VA7SWMt"
   },
   "outputs": [],
   "source": [
    "predict_df = predict_df.reshape(-1,predict_df.shape[2])"
   ]
  },
  {
   "cell_type": "code",
   "execution_count": 27,
   "metadata": {
    "colab": {
     "base_uri": "https://localhost:8080/"
    },
    "executionInfo": {
     "elapsed": 4,
     "status": "ok",
     "timestamp": 1654409525930,
     "user": {
      "displayName": "김동환",
      "userId": "02922448658282055726"
     },
     "user_tz": -540
    },
    "id": "8m2H733Vx3Hx",
    "outputId": "bb8f2ddb-3648-4b43-8d27-d329d9ef8f09"
   },
   "outputs": [
    {
     "name": "stdout",
     "output_type": "stream",
     "text": [
      "(336600,)\n"
     ]
    }
   ],
   "source": [
    "error = x_test - predict_df\n",
    "mse = np.mean(np.power(error,2),axis=1)\n",
    "print(mse.shape)"
   ]
  },
  {
   "cell_type": "code",
   "execution_count": 28,
   "metadata": {
    "executionInfo": {
     "elapsed": 4,
     "status": "ok",
     "timestamp": 1654409525930,
     "user": {
      "displayName": "김동환",
      "userId": "02922448658282055726"
     },
     "user_tz": -540
    },
    "id": "sLM6hiwEF8_M"
   },
   "outputs": [],
   "source": [
    "error_df = pd.DataFrame({'Reconstruction_error': mse, 'True_class': attack_answer})"
   ]
  },
  {
   "cell_type": "code",
   "execution_count": 29,
   "metadata": {
    "colab": {
     "base_uri": "https://localhost:8080/",
     "height": 352
    },
    "executionInfo": {
     "elapsed": 2236,
     "status": "ok",
     "timestamp": 1654409528162,
     "user": {
      "displayName": "김동환",
      "userId": "02922448658282055726"
     },
     "user_tz": -540
    },
    "id": "WrtJeBDdGB8D",
    "outputId": "b52f519f-3102-4716-8756-9386545a1ec4"
   },
   "outputs": [
    {
     "data": {
      "text/plain": [
       "<matplotlib.legend.Legend at 0x7f20360be310>"
      ]
     },
     "execution_count": 29,
     "metadata": {},
     "output_type": "execute_result"
    },
    {
     "data": {
      "image/png": "[encoded data removed]",
      "text/plain": [
       "<Figure size 576x360 with 1 Axes>"
      ]
     },
     "metadata": {
      "needs_background": "light"
     },
     "output_type": "display_data"
    }
   ],
   "source": [
    "precision_rt, recall_rt, threshold_rt = sklearn.metrics.precision_recall_curve(error_df['True_class'], error_df['Reconstruction_error'])\n",
    "plt.figure(figsize=(8,5))\n",
    "plt.plot(threshold_rt, precision_rt[1:], label='Precision')\n",
    "plt.plot(threshold_rt, recall_rt[1:], label='Recall')\n",
    "plt.xlabel('Threshold'); plt.ylabel('Precision/Recall')\n",
    "plt.legend()"
   ]
  },
  {
   "cell_type": "markdown",
   "metadata": {
    "id": "-c5Sg2Do_BiQ"
   },
   "source": [
    "pred_attack = np.zeros(len(mse))\n",
    "for i in range(len(mse)):\n",
    "  if mse[i] > 0.015: # 0.014\n",
    "    pred_attack[i]=1\n",
    "pred_attack"
   ]
  },
  {
   "cell_type": "code",
   "execution_count": 30,
   "metadata": {
    "colab": {
     "base_uri": "https://localhost:8080/",
     "height": 283
    },
    "executionInfo": {
     "elapsed": 5,
     "status": "ok",
     "timestamp": 1654409528162,
     "user": {
      "displayName": "김동환",
      "userId": "02922448658282055726"
     },
     "user_tz": -540
    },
    "id": "LOfR_iGIxJ5c",
    "outputId": "ef8fb37d-44b9-48fb-e42e-32b571ff98ed"
   },
   "outputs": [
    {
     "data": {
      "text/plain": [
       "[<matplotlib.lines.Line2D at 0x7f2031526dd0>]"
      ]
     },
     "execution_count": 30,
     "metadata": {},
     "output_type": "execute_result"
    },
    {
     "data": {
      "image/png": "[encoded data removed]",
      "text/plain": [
       "<Figure size 432x288 with 1 Axes>"
      ]
     },
     "metadata": {
      "needs_background": "light"
     },
     "output_type": "display_data"
    }
   ],
   "source": [
    "mean_window = error_df['Reconstruction_error'].rolling(60,center=True).mean()\n",
    "window_error = mean_window.fillna(0)\n",
    "plt.plot(window_error)"
   ]
  },
  {
   "cell_type": "code",
   "execution_count": 506,
   "metadata": {
    "colab": {
     "base_uri": "https://localhost:8080/"
    },
    "executionInfo": {
     "elapsed": 1351,
     "status": "ok",
     "timestamp": 1654410442948,
     "user": {
      "displayName": "김동환",
      "userId": "02922448658282055726"
     },
     "user_tz": -540
    },
    "id": "a5HS5Jh2xMnb",
    "outputId": "6e5a4fff-b944-4381-dbdb-aa492b30a84b"
   },
   "outputs": [
    {
     "data": {
      "text/plain": [
       "array([0., 0., 0., ..., 0., 0., 0.])"
      ]
     },
     "execution_count": 506,
     "metadata": {},
     "output_type": "execute_result"
    }
   ],
   "source": [
    "pred_attack = np.zeros(len(mse))\n",
    "threshold = 0.00078\n",
    "for i in range(len(mse)):\n",
    "  if window_error[i] > threshold:\n",
    "    pred_attack[i]=1\n",
    "pred_attack"
   ]
  },
  {
   "cell_type": "code",
   "execution_count": 507,
   "metadata": {
    "executionInfo": {
     "elapsed": 6,
     "status": "ok",
     "timestamp": 1654410442948,
     "user": {
      "displayName": "김동환",
      "userId": "02922448658282055726"
     },
     "user_tz": -540
    },
    "id": "Aez8h87bWZvv"
   },
   "outputs": [],
   "source": [
    "#timesteps = 60 threshold = 0.0095 rolling 60 F1: 0.318 (TaP: 0.600, TaR: 0.216) -> lstm-autoencoder, drop_feature = none"
   ]
  },
  {
   "cell_type": "code",
   "execution_count": 508,
   "metadata": {
    "colab": {
     "base_uri": "https://localhost:8080/"
    },
    "executionInfo": {
     "elapsed": 6,
     "status": "ok",
     "timestamp": 1654410442948,
     "user": {
      "displayName": "김동환",
      "userId": "02922448658282055726"
     },
     "user_tz": -540
    },
    "id": "_382-BXfAvWr",
    "outputId": "3db0d2e2-7049-428e-c722-732e9112faee"
   },
   "outputs": [
    {
     "data": {
      "text/plain": [
       "336600"
      ]
     },
     "execution_count": 508,
     "metadata": {},
     "output_type": "execute_result"
    }
   ],
   "source": [
    "len(pred_attack)"
   ]
  },
  {
   "cell_type": "code",
   "execution_count": 509,
   "metadata": {
    "colab": {
     "base_uri": "https://localhost:8080/"
    },
    "executionInfo": {
     "elapsed": 5,
     "status": "ok",
     "timestamp": 1654410442948,
     "user": {
      "displayName": "김동환",
      "userId": "02922448658282055726"
     },
     "user_tz": -540
    },
    "id": "-Kp3V-8s_4fg",
    "outputId": "ec6718cc-01f1-472b-aaae-5668a6a70a52"
   },
   "outputs": [
    {
     "data": {
      "text/plain": [
       "6891"
      ]
     },
     "execution_count": 509,
     "metadata": {},
     "output_type": "execute_result"
    }
   ],
   "source": [
    "len(pred_attack[pred_attack==1])"
   ]
  },
  {
   "cell_type": "code",
   "execution_count": 510,
   "metadata": {
    "colab": {
     "base_uri": "https://localhost:8080/"
    },
    "executionInfo": {
     "elapsed": 3,
     "status": "ok",
     "timestamp": 1654410442948,
     "user": {
      "displayName": "김동환",
      "userId": "02922448658282055726"
     },
     "user_tz": -540
    },
    "id": "goJETskcCIaw",
    "outputId": "5791c618-273b-420a-dbad-1dbd5a6d3bfb"
   },
   "outputs": [
    {
     "data": {
      "text/plain": [
       "(array([0, 1]), array([325748,  10852]))"
      ]
     },
     "execution_count": 510,
     "metadata": {},
     "output_type": "execute_result"
    }
   ],
   "source": [
    "attack_answer = np.where(attack_answer == 1,1,0)\n",
    "np.unique(attack_answer,return_counts=True)"
   ]
  },
  {
   "cell_type": "code",
   "execution_count": 511,
   "metadata": {
    "colab": {
     "base_uri": "https://localhost:8080/"
    },
    "executionInfo": {
     "elapsed": 771,
     "status": "ok",
     "timestamp": 1654410443716,
     "user": {
      "displayName": "김동환",
      "userId": "02922448658282055726"
     },
     "user_tz": -540
    },
    "id": "aRZlfWHAD7lH",
    "outputId": "5e20dd78-cb6f-4842-8f84-8de342d59fb6"
   },
   "outputs": [
    {
     "name": "stdout",
     "output_type": "stream",
     "text": [
      "[[322502   3246]\n",
      " [  7207   3645]]\n",
      "0.4108662571154822\n",
      "F1: 0.398 (TaP: 0.407, TaR: 0.390)\n",
      "# of detected anomalies: 25\n"
     ]
    }
   ],
   "source": [
    "print(confusion_matrix(attack_answer,pred_attack))\n",
    "print(f1_score(attack_answer, pred_attack))\n",
    "TaPR = etapr.evaluate_haicon(anomalies=attack_answer, predictions=pred_attack)\n",
    "print(f\"F1: {TaPR['f1']:.3f} (TaP: {TaPR['TaP']:.3f}, TaR: {TaPR['TaR']:.3f})\")\n",
    "print(f\"# of detected anomalies: {len(TaPR['Detected_Anomalies'])}\")"
   ]
  },
  {
   "cell_type": "code",
   "execution_count": 512,
   "metadata": {
    "colab": {
     "base_uri": "https://localhost:8080/",
     "height": 72
    },
    "executionInfo": {
     "elapsed": 6,
     "status": "ok",
     "timestamp": 1654410443717,
     "user": {
      "displayName": "김동환",
      "userId": "02922448658282055726"
     },
     "user_tz": -540
    },
    "id": "rZMZv-Vz05mU",
    "outputId": "60d43c7b-b7b5-4984-c72e-51ed15c08de7"
   },
   "outputs": [
    {
     "data": {
      "application/vnd.google.colaboratory.intrinsic+json": {
       "type": "string"
      },
      "text/plain": [
       "\"def check_graph(xs, att, piece=2, THRESHOLD=None):\\n    l = xs.shape[0]\\n    chunk = l // piece\\n    fig, axs = plt.subplots(piece, figsize=(20, 4 * piece))\\n    for i in range(piece):\\n        L = i * chunk\\n        R = min(L + chunk, l)\\n        xticks = range(L, R)\\n        axs[i].plot(xticks, xs[L:R])\\n        if len(xs[L:R]) > 0:\\n            peak = max(xs[L:R])\\n            axs[i].plot(xticks, att[L:R] * peak * 0.3)\\n        if THRESHOLD!=None:\\n            axs[i].axhline(y=THRESHOLD, color='r')\\n    plt.show()\""
      ]
     },
     "execution_count": 512,
     "metadata": {},
     "output_type": "execute_result"
    }
   ],
   "source": [
    "'''def check_graph(xs, att, piece=2, THRESHOLD=None):\n",
    "    l = xs.shape[0]\n",
    "    chunk = l // piece\n",
    "    fig, axs = plt.subplots(piece, figsize=(20, 4 * piece))\n",
    "    for i in range(piece):\n",
    "        L = i * chunk\n",
    "        R = min(L + chunk, l)\n",
    "        xticks = range(L, R)\n",
    "        axs[i].plot(xticks, xs[L:R])\n",
    "        if len(xs[L:R]) > 0:\n",
    "            peak = max(xs[L:R])\n",
    "            axs[i].plot(xticks, att[L:R] * peak * 0.3)\n",
    "        if THRESHOLD!=None:\n",
    "            axs[i].axhline(y=THRESHOLD, color='r')\n",
    "    plt.show()'''"
   ]
  },
  {
   "cell_type": "code",
   "execution_count": 513,
   "metadata": {
    "executionInfo": {
     "elapsed": 633,
     "status": "ok",
     "timestamp": 1654410444346,
     "user": {
      "displayName": "김동환",
      "userId": "02922448658282055726"
     },
     "user_tz": -540
    },
    "id": "NxZzn6uF_eJM"
   },
   "outputs": [],
   "source": [
    "pd.DataFrame(pred_attack).to_csv(\"./drive/MyDrive/ICS_anomaly_detection/hai-22.04/results/group3/result_1.csv\")\n",
    "pd.DataFrame(attack_answer).to_csv(\"./drive/MyDrive/ICS_anomaly_detection/hai-22.04/results/attack_answer.csv\")"
   ]
  },
  {
   "cell_type": "code",
   "execution_count": 514,
   "metadata": {
    "executionInfo": {
     "elapsed": 6,
     "status": "ok",
     "timestamp": 1654410444347,
     "user": {
      "displayName": "김동환",
      "userId": "02922448658282055726"
     },
     "user_tz": -540
    },
    "id": "SLQdWTH50-ub"
   },
   "outputs": [],
   "source": [
    "#check_graph(window_error,attack_answer,20,threshold)"
   ]
  }
 ],
 "metadata": {
  "accelerator": "GPU",
  "colab": {
   "collapsed_sections": [],
   "name": "Anomaly_lstm_ae_1.ipynb",
   "provenance": []
  },
  "kernelspec": {
   "display_name": "Python 3 (ipykernel)",
   "language": "python",
   "name": "python3"
  },
  "language_info": {
   "codemirror_mode": {
    "name": "ipython",
    "version": 3
   },
   "file_extension": ".py",
   "mimetype": "text/x-python",
   "name": "python",
   "nbconvert_exporter": "python",
   "pygments_lexer": "ipython3",
   "version": "3.8.16"
  },
  "toc": {
   "base_numbering": 1,
   "nav_menu": {},
   "number_sections": true,
   "sideBar": true,
   "skip_h1_title": false,
   "title_cell": "Table of Contents",
   "title_sidebar": "Contents",
   "toc_cell": false,
   "toc_position": {},
   "toc_section_display": true,
   "toc_window_display": false
  }
 },
 "nbformat": 4,
 "nbformat_minor": 1
}
